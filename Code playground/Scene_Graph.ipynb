{
 "cells": [
  {
   "cell_type": "code",
   "execution_count": 2,
   "metadata": {},
   "outputs": [
    {
     "name": "stderr",
     "output_type": "stream",
     "text": [
      "c:\\Users\\Gaia\\miniconda3\\Lib\\site-packages\\torchvision\\models\\_utils.py:208: UserWarning: The parameter 'pretrained' is deprecated since 0.13 and may be removed in the future, please use 'weights' instead.\n",
      "  warnings.warn(\n",
      "c:\\Users\\Gaia\\miniconda3\\Lib\\site-packages\\torchvision\\models\\_utils.py:223: UserWarning: Arguments other than a weight enum or `None` for 'weights' are deprecated since 0.13 and may be removed in the future. The current behavior is equivalent to passing `weights=FasterRCNN_ResNet50_FPN_Weights.COCO_V1`. You can also use `weights=FasterRCNN_ResNet50_FPN_Weights.DEFAULT` to get the most up-to-date weights.\n",
      "  warnings.warn(msg)\n",
      "Downloading: \"https://download.pytorch.org/models/fasterrcnn_resnet50_fpn_coco-258fb6c6.pth\" to C:\\Users\\Gaia/.cache\\torch\\hub\\checkpoints\\fasterrcnn_resnet50_fpn_coco-258fb6c6.pth\n",
      "100%|██████████| 160M/160M [02:17<00:00, 1.22MB/s] \n"
     ]
    },
    {
     "name": "stdout",
     "output_type": "stream",
     "text": [
      "{'objects': {tensor(22): tensor(22), tensor(24): tensor(24), tensor(16): tensor(16), tensor(20): tensor(20), tensor(16): tensor(16), tensor(25): tensor(25), tensor(16): tensor(16), tensor(16): tensor(16), tensor(16): tensor(16), tensor(20): tensor(20), tensor(24): tensor(24), tensor(21): tensor(21), tensor(21): tensor(21), tensor(21): tensor(21), tensor(16): tensor(16), tensor(24): tensor(24), tensor(19): tensor(19), tensor(20): tensor(20), tensor(20): tensor(20), tensor(21): tensor(21), tensor(21): tensor(21), tensor(20): tensor(20), tensor(20): tensor(20), tensor(22): tensor(22), tensor(20): tensor(20), tensor(20): tensor(20), tensor(20): tensor(20), tensor(21): tensor(21), tensor(19): tensor(19), tensor(21): tensor(21), tensor(16): tensor(16), tensor(20): tensor(20), tensor(16): tensor(16), tensor(20): tensor(20), tensor(19): tensor(19), tensor(21): tensor(21), tensor(16): tensor(16), tensor(25): tensor(25), tensor(22): tensor(22), tensor(23): tensor(23), tensor(18): tensor(18), tensor(21): tensor(21), tensor(16): tensor(16), tensor(20): tensor(20), tensor(22): tensor(22), tensor(21): tensor(21), tensor(22): tensor(22), tensor(22): tensor(22), tensor(16): tensor(16), tensor(21): tensor(21), tensor(20): tensor(20), tensor(23): tensor(23), tensor(21): tensor(21), tensor(18): tensor(18), tensor(25): tensor(25), tensor(20): tensor(20), tensor(21): tensor(21), tensor(18): tensor(18), tensor(21): tensor(21), tensor(18): tensor(18), tensor(16): tensor(16), tensor(21): tensor(21), tensor(24): tensor(24), tensor(21): tensor(21), tensor(16): tensor(16), tensor(22): tensor(22)}, 'relationships': [], 'attributes': []}\n"
     ]
    }
   ],
   "source": [
    "import torch\n",
    "from torchvision import transforms\n",
    "from torchvision.models.detection import fasterrcnn_resnet50_fpn\n",
    "from PIL import Image\n",
    "\n",
    "def load_image(image_path):\n",
    "    return Image.open(image_path).convert(\"RGB\")\n",
    "\n",
    "def detect_objects(image):\n",
    "    transform = transforms.Compose([transforms.ToTensor()])\n",
    "    image = transform(image)\n",
    "    \n",
    "    model = fasterrcnn_resnet50_fpn(pretrained=True)\n",
    "    model.eval()\n",
    "    \n",
    "    with torch.no_grad():\n",
    "        predictions = model([image])\n",
    "    \n",
    "    return predictions[0]\n",
    "\n",
    "def recognize_object(object_class):\n",
    "    # Here you can implement your object recognition logic\n",
    "    return object_class\n",
    "\n",
    "def extract_relationships(objects):\n",
    "    # Here you can implement your relationship extraction logic\n",
    "    return []\n",
    "\n",
    "def extract_attributes(objects):\n",
    "    # Here you can implement your attribute extraction logic\n",
    "    return []\n",
    "\n",
    "def construct_scene_graph(objects, recognized_objects, relationships, attributes):\n",
    "    # Here you can construct your scene graph\n",
    "    scene_graph = {\n",
    "        \"objects\": recognized_objects,\n",
    "        \"relationships\": relationships,\n",
    "        \"attributes\": attributes\n",
    "    }\n",
    "    return scene_graph\n",
    "\n",
    "def main(image_path):\n",
    "    image = load_image(image_path)\n",
    "    objects = detect_objects(image)\n",
    "    \n",
    "    recognized_objects = {}\n",
    "    for obj in objects[\"labels\"]:\n",
    "        recognized_objects[obj] = recognize_object(obj)\n",
    "    \n",
    "    relationships = extract_relationships(objects)\n",
    "    attributes = extract_attributes(objects)\n",
    "    \n",
    "    scene_graph = construct_scene_graph(objects, recognized_objects, relationships, attributes)\n",
    "    \n",
    "    return scene_graph\n",
    "\n",
    "if __name__ == \"__main__\":\n",
    "    image_path = \"Animals.png\"\n",
    "    scene_graph = main(image_path)\n",
    "    print(scene_graph)\n"
   ]
  }
 ],
 "metadata": {
  "kernelspec": {
   "display_name": "base",
   "language": "python",
   "name": "python3"
  },
  "language_info": {
   "codemirror_mode": {
    "name": "ipython",
    "version": 3
   },
   "file_extension": ".py",
   "mimetype": "text/x-python",
   "name": "python",
   "nbconvert_exporter": "python",
   "pygments_lexer": "ipython3",
   "version": "3.12.3"
  }
 },
 "nbformat": 4,
 "nbformat_minor": 2
}
