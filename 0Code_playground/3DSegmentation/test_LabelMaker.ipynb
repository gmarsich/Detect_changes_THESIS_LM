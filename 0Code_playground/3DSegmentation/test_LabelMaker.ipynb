{
 "cells": [
  {
   "cell_type": "code",
   "execution_count": 1,
   "metadata": {},
   "outputs": [],
   "source": [
    "# environment: labelmaker"
   ]
  },
  {
   "cell_type": "markdown",
   "metadata": {},
   "source": [
    "## Mask3D"
   ]
  },
  {
   "cell_type": "markdown",
   "metadata": {},
   "source": [
    "Type of object, colour and ID in the segmentation respect the indications specified in this file: https://github.com/ScanNet/ScanNet/blob/master/BenchmarkScripts/ScanNet200/scannet200_constants.py"
   ]
  },
  {
   "cell_type": "code",
   "execution_count": 10,
   "metadata": {},
   "outputs": [],
   "source": [
    "import open3d as o3d\n",
    "import os\n",
    "import numpy as np\n",
    "import scannet200_constants"
   ]
  },
  {
   "cell_type": "markdown",
   "metadata": {},
   "source": [
    "### ARKitScenes"
   ]
  },
  {
   "cell_type": "markdown",
   "metadata": {},
   "source": [
    "If you want to download something from ARKitScenes (https://github.com/apple/ARKitScenes/tree/095a1190748be2c62d3f70f211352a31eac0172c?tab=readme-ov-file), I found the list of IDs of the scenes that can be used here: https://github.com/apple/ARKitScenes/blob/095a1190748be2c62d3f70f211352a31eac0172c/raw/raw_train_val_splits.csv\n",
    "\n",
    "Additional information are here: https://github.com/apple/ARKitScenes/blob/095a1190748be2c62d3f70f211352a31eac0172c/DATA.md"
   ]
  },
  {
   "cell_type": "markdown",
   "metadata": {},
   "source": [
    "First of all, one needs to download the ARKitScenes. **The following code has to be executed in the CMD, being in the root of the clone of the GitHub repository of LabelMaker**:"
   ]
  },
  {
   "cell_type": "markdown",
   "metadata": {},
   "source": [
    "To set up the scene:\n",
    "\n",
    "```bash\n",
    "#\n",
    "# Download scene\n",
    "#\n",
    "export TRAINING_OR_VALIDATION=Training\n",
    "export SCENE_ID=47333462 # TODO TOSET: change with what you need\n",
    "\n",
    "# activate environment\n",
    "conda activate labelmaker\n",
    "\n",
    "# modify the paths as you need in the following line\n",
    "python 3rdparty/ARKitScenes/download_data.py raw --split $TRAINING_OR_VALIDATION --video_id $SCENE_ID --download_dir ~/Desktop/LabelMaker/ARKitScenes/ --raw_dataset_assets lowres_depth confidence lowres_wide.traj lowres_wide lowres_wide_intrinsics vga_wide vga_wide_intrinsics # TODO TOSET: in case change the paths and the things to be downloaded\n",
    "\n",
    "\n",
    "#\n",
    "# Convert scene to LabelMaker workspace\n",
    "#\n",
    "# modify the paths as you need in the following two lines\n",
    "WORKSPACE_DIR=~/Desktop/LabelMaker/workspace/$SCENE_ID # TODO TOSET: change the path, in case\n",
    "\n",
    "python scripts/arkitscenes2labelmaker.py --scan_dir ~/Desktop/LabelMaker/ARKitScenes/raw/$TRAINING_OR_VALIDATION/$SCENE_ID --target_dir $WORKSPACE_DIR # TODO TOSET: change the path, in case\n",
    "```\n",
    "\t\n",
    "\t\n",
    "In my case, I will find the things to work with in this directory: `/local/home/gmarsich/Desktop/LabelMaker/workspace/`"
   ]
  },
  {
   "cell_type": "markdown",
   "metadata": {},
   "source": [
    "Then, to visualise the point cloud obtained after having used `scripts/arkitscenes2labelmaker.py`:"
   ]
  },
  {
   "cell_type": "code",
   "execution_count": 8,
   "metadata": {},
   "outputs": [],
   "source": [
    "scene_id_num = 47333462 # TODO TOSET: change if needed\n",
    "scene_id = str(scene_id_num)\n",
    "\n",
    "# Print the original point cloud\n",
    "pcd_original = o3d.io.read_point_cloud(os.path.join('/local/home/gmarsich/Desktop/LabelMaker/workspace', scene_id, 'mesh.ply')) # TODO TOSET: change the name of the point cloud to open\n",
    "o3d.visualization.draw_geometries([pcd_original])"
   ]
  },
  {
   "cell_type": "markdown",
   "metadata": {},
   "source": [
    "Now we want to perform the segmentation with Mask3D, that is also a part of the pipeline of LabelMaker. **The following code has to be executed in the CMD, being in the root of the clone of the GitHub repository of LabelMaker**:"
   ]
  },
  {
   "cell_type": "markdown",
   "metadata": {},
   "source": [
    "```bash\n",
    "python models/mask3d_inst.py --workspace $WORKSPACE_DIR # TODO TOSET: be sure that the WORKSPACE_DIR is what you need. Be aware that depending on the scene you have to change WORKSPACE_DIR\n",
    "```"
   ]
  },
  {
   "cell_type": "markdown",
   "metadata": {},
   "source": [
    "In my case, I will find this in the directory: `~/Desktop/LabelMaker/workspace/$SCENE_ID/intermediate`"
   ]
  },
  {
   "cell_type": "markdown",
   "metadata": {},
   "source": [
    "To visualise the point cloud with segmentation:"
   ]
  },
  {
   "cell_type": "code",
   "execution_count": 9,
   "metadata": {},
   "outputs": [
    {
     "name": "stdout",
     "output_type": "stream",
     "text": [
      "[['000', 33, 0.9808184504508972], ['001', 41, 0.9745919108390808], ['002', 11, 0.9729697108268738], ['003', 2, 0.9682306051254272], ['004', 40, 0.9651244282722473], ['005', 40, 0.9651244282722473], ['006', 40, 0.9651244282722473], ['007', 40, 0.9651244282722473], ['008', 15, 0.9525947570800781], ['009', 13, 0.9516007304191589], ['010', 64, 0.9515623450279236], ['011', 40, 0.9465606808662415], ['012', 19, 0.9420142769813538], ['013', 96, 0.9412561058998108], ['014', 5, 0.9374870657920837], ['015', 5, 0.9330196976661682], ['016', 7, 0.9229379892349243], ['017', 7, 0.9218409061431885], ['018', 16, 0.9160168170928955], ['019', 7, 0.9009466171264648], ['020', 9, 0.8869688510894775], ['021', 21, 0.8723699450492859], ['022', 11, 0.8722449541091919], ['023', 13, 0.8578157424926758], ['024', 28, 0.857663631439209], ['025', 141, 0.8315925598144531], ['026', 40, 0.820642352104187], ['027', 13, 0.7531285881996155], ['028', 15, 0.7465308308601379], ['029', 161, 0.7401318550109863], ['030', 40, 0.655077338218689], ['031', 13, 0.6131749749183655], ['032', 40, 0.5797380805015564], ['033', 40, 0.5620676875114441], ['034', 22, 0.531358003616333], ['035', 40, 0.5145381689071655], ['036', 40, 0.5033921599388123], ['037', 40, 0.36291712522506714], ['038', 13, 0.32777175307273865], ['039', 28, 0.3050461709499359], ['040', 15, 0.26090821623802185], ['041', 13, 0.23665641248226166], ['042', 8, 0.17848312854766846], ['043', 40, 0.14584165811538696], ['044', 40, 0.1342511773109436], ['045', 40, 0.12596851587295532], ['046', 5, 0.11209642142057419], ['047', 5, 0.10705706477165222], ['048', 13, 0.10352104157209396]]\n"
     ]
    }
   ],
   "source": [
    "#\n",
    "# Get the list of objects that appear in the segmentation and their colour (use the files provided from the work of Mask3D).\n",
    "#\n",
    "\n",
    "path_predictions = os.path.join(\"/local/home/gmarsich/Desktop/LabelMaker/workspace\", str(scene_id), \"intermediate/scannet200_mask3d_1/predictions.txt\")\n",
    "\n",
    "# Read the content of the file\n",
    "with open(path_predictions, 'r') as file:\n",
    "    lines = file.readlines()\n",
    "\n",
    "# Initialize the predictions array\n",
    "predictions = []\n",
    "\n",
    "# Process each line\n",
    "for line in lines:\n",
    "    parts = line.strip().split()  # Split the line into parts\n",
    "    filename = parts[0]  # Get the filename part\n",
    "    file_number = filename.split('/')[1].split('.')[0]  # Extract the number from the filename\n",
    "    object_ID = int(parts[1])  # Get the number after .txt\n",
    "    score = float(parts[2])  # Get the last number\n",
    "\n",
    "    # Append the extracted information as an array to the predictions list\n",
    "    predictions.append([file_number, object_ID, score])\n",
    "\n",
    "\n",
    "\n",
    "\n",
    "\n",
    "# An alternative could be to get the colours from the point cloud and search for their assciated IDs (and name of the object) on\n",
    "# https://github.com/ScanNet/ScanNet/blob/master/BenchmarkScripts/ScanNet200/scannet200_constants.py"
   ]
  },
  {
   "cell_type": "code",
   "execution_count": 5,
   "metadata": {},
   "outputs": [],
   "source": [
    "# Print the segmentation with Mask3D (computed by LabelMaker)\n",
    "pcd_mask3D = o3d.io.read_point_cloud(os.path.join(\"/local/home/gmarsich/Desktop/LabelMaker/workspace\", str(scene_id), \"intermediate/scannet200_mask3d_1/mesh_labelled.ply\")) # TODO TOSET: change the name of the point cloud to open\n",
    "o3d.visualization.draw_geometries([pcd_mask3D])"
   ]
  },
  {
   "cell_type": "markdown",
   "metadata": {},
   "source": [
    "## Hypersim"
   ]
  }
 ],
 "metadata": {
  "kernelspec": {
   "display_name": "labelmaker",
   "language": "python",
   "name": "python3"
  },
  "language_info": {
   "codemirror_mode": {
    "name": "ipython",
    "version": 3
   },
   "file_extension": ".py",
   "mimetype": "text/x-python",
   "name": "python",
   "nbconvert_exporter": "python",
   "pygments_lexer": "ipython3",
   "version": "3.10.14"
  }
 },
 "nbformat": 4,
 "nbformat_minor": 2
}
