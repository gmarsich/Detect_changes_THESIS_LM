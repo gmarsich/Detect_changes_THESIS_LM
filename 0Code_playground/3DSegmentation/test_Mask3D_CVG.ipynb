{
 "cells": [
  {
   "cell_type": "code",
   "execution_count": 2,
   "metadata": {},
   "outputs": [],
   "source": [
    "# environment: mask3d_labelmaker"
   ]
  },
  {
   "cell_type": "code",
   "execution_count": 4,
   "metadata": {},
   "outputs": [
    {
     "name": "stderr",
     "output_type": "stream",
     "text": [
      "/local/home/gmarsich/Programs/miniconda3/envs/mask3d_labelmaker/lib/python3.10/site-packages/hydra/core/utils.py:147: UserWarning: register_resolver() is deprecated.\n",
      "See https://github.com/omry/omegaconf/issues/426 for migration instructions.\n",
      "\n",
      "  OmegaConf.register_resolver(name, f)\n",
      "/local/home/gmarsich/Programs/miniconda3/envs/mask3d_labelmaker/lib/python3.10/site-packages/hydra/utils.py:32: UserWarning: `OmegaConf.is_none()` is deprecated, see https://github.com/omry/omegaconf/issues/547\n",
      "  if OmegaConf.is_none(config):\n"
     ]
    },
    {
     "name": "stdout",
     "output_type": "stream",
     "text": [
      "\u001b[1;33m[Open3D WARNING] geometry::TriangleMesh appears to be a geometry::PointCloud (only contains vertices, but no triangles).\u001b[0;m\n",
      "<class 'list'>\n",
      "<class 'numpy.ndarray'>\n",
      "tensor([       0,        1,        5,  ..., 77018904, 77023976, 77038313])\n"
     ]
    }
   ],
   "source": [
    "\n",
    "from mask3d import get_model, load_mesh, prepare_data, map_output_to_pointcloud, save_colorized_mesh\n",
    "import torch\n",
    "\n",
    "model = get_model('/local/home/gmarsich/Desktop/scannet200_benchmark.ckpt')\n",
    "model.eval()\n",
    "device = torch.device(\"cuda\" if torch.cuda.is_available() else \"cpu\")\n",
    "model.to(device)\n",
    "\n",
    "# load input data\n",
    "pointcloud_file = '/local/home/gmarsich/Desktop/Thesis/0Code_playground/3DSegmentation/Mask3D_CVG/point_cloud_DEPTHS_TONEMAP_ai_001_001_cam_00_METERS.ply'\n",
    "mesh = load_mesh(pointcloud_file)\n",
    "\n",
    "# prepare data\n",
    "data, points, colors, features, unique_map, inverse_map = prepare_data(mesh, device)\n",
    "\n",
    "\n",
    "features = torch.tensor(features, dtype=torch.float32) # print(len(features)) gives 1\n",
    "features_matrix = features[0]\n",
    "\n",
    "# run model\n",
    "with torch.no_grad():\n",
    "    outputs = model(data, raw_coordinates=features_matrix)\n",
    "    \n",
    "# map output to point cloud\n",
    "labels = map_output_to_pointcloud(mesh, outputs, inverse_map)\n",
    "\n",
    "# save colorized mesh\n",
    "save_colorized_mesh(mesh, labels, '/local/home/gmarsich/Desktop/Thesis/0Code_playground/3DSegmentation/Mask3D_CVG/labelled_mesh_2.ply', colormap='scannet200')"
   ]
  }
 ],
 "metadata": {
  "kernelspec": {
   "display_name": "mask3d_cuda113",
   "language": "python",
   "name": "python3"
  },
  "language_info": {
   "codemirror_mode": {
    "name": "ipython",
    "version": 3
   },
   "file_extension": ".py",
   "mimetype": "text/x-python",
   "name": "python",
   "nbconvert_exporter": "python",
   "pygments_lexer": "ipython3",
   "version": "3.10.14"
  }
 },
 "nbformat": 4,
 "nbformat_minor": 2
}
