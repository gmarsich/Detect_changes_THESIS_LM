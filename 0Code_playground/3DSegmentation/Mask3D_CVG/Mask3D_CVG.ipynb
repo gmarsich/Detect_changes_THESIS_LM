{
 "cells": [
  {
   "cell_type": "code",
   "execution_count": 2,
   "metadata": {},
   "outputs": [],
   "source": [
    "# environment: mask3d_labelmaker"
   ]
  },
  {
   "cell_type": "markdown",
   "metadata": {},
   "source": [
    "The environment `mask3d_labelmaker` is basically the environment `labelmaker` with a few adjustment on the `mask3d` package. I modified things so that it could work (even if I am not sure that it works 100% properly). The environment is saved here: `~/Programs/miniconda3/envs/mask3d_labelmaker`\n",
    "\n",
    "Be aware that, if I remember correctly, it needs more or less 20min to process a point cloud of Hypersim."
   ]
  },
  {
   "cell_type": "code",
   "execution_count": 1,
   "metadata": {},
   "outputs": [
    {
     "name": "stderr",
     "output_type": "stream",
     "text": [
      "/local/home/gmarsich/Programs/miniconda3/envs/mask3d_labelmaker/lib/python3.10/site-packages/tqdm/auto.py:21: TqdmWarning: IProgress not found. Please update jupyter and ipywidgets. See https://ipywidgets.readthedocs.io/en/stable/user_install.html\n",
      "  from .autonotebook import tqdm as notebook_tqdm\n",
      "INFO:albumentations.check_version:A new version of Albumentations is available: 1.4.10 (you have 1.4.9). Upgrade using: pip install --upgrade albumentations\n",
      "/local/home/gmarsich/Programs/miniconda3/envs/mask3d_labelmaker/lib/python3.10/site-packages/hydra/core/utils.py:147: UserWarning: register_resolver() is deprecated.\n",
      "See https://github.com/omry/omegaconf/issues/426 for migration instructions.\n",
      "\n",
      "  OmegaConf.register_resolver(name, f)\n"
     ]
    },
    {
     "name": "stdout",
     "output_type": "stream",
     "text": [
      "ANTLR runtime and generated code versions disagree: 4.9.3!=4.8\n",
      "ANTLR runtime and generated code versions disagree: 4.9.3!=4.8\n"
     ]
    },
    {
     "name": "stderr",
     "output_type": "stream",
     "text": [
      "/local/home/gmarsich/Programs/miniconda3/envs/mask3d_labelmaker/lib/python3.10/site-packages/hydra/utils.py:32: UserWarning: `OmegaConf.is_none()` is deprecated, see https://github.com/omry/omegaconf/issues/547\n",
      "  if OmegaConf.is_none(config):\n"
     ]
    },
    {
     "name": "stdout",
     "output_type": "stream",
     "text": [
      "<class 'list'>\n",
      "<class 'numpy.ndarray'>\n",
      "tensor([      0,      10,      12,  ..., 1518707, 1518710, 1518712])\n"
     ]
    }
   ],
   "source": [
    "\n",
    "from mask3d import get_model, load_mesh, prepare_data, map_output_to_pointcloud, save_colorized_mesh\n",
    "import torch\n",
    "\n",
    "model = get_model('/local/home/gmarsich/Programs/miniconda3/envs/mask3d_labelmaker/0CHECKPOINTS/scannet200_benchmark.ckpt') # TODO TOSET: modify if necessary\n",
    "model.eval()\n",
    "device = torch.device(\"cuda\" if torch.cuda.is_available() else \"cpu\")\n",
    "model.to(device)\n",
    "\n",
    "# load input data\n",
    "pointcloud_file = '/local/home/gmarsich/Desktop/mesh.ply' # TODO TOSET: modify the path if necessary\n",
    "mesh = load_mesh(pointcloud_file)\n",
    "\n",
    "# prepare data\n",
    "data, points, colors, features, unique_map, inverse_map = prepare_data(mesh, device)\n",
    "\n",
    "\n",
    "features = torch.tensor(features, dtype=torch.float32) # print(len(features)) gives 1\n",
    "features_matrix = features[0]\n",
    "\n",
    "# run model\n",
    "with torch.no_grad():\n",
    "    outputs = model(data, raw_coordinates=features_matrix)\n",
    "    \n",
    "# map output to point cloud\n",
    "labels = map_output_to_pointcloud(mesh, outputs, inverse_map)\n",
    "\n",
    "# save colorized mesh\n",
    "save_colorized_mesh(mesh, labels, '/local/home/gmarsich/Desktop/labelled_mesh.ply', colormap='scannet200')"
   ]
  }
 ],
 "metadata": {
  "kernelspec": {
   "display_name": "mask3d_cuda113",
   "language": "python",
   "name": "python3"
  },
  "language_info": {
   "codemirror_mode": {
    "name": "ipython",
    "version": 3
   },
   "file_extension": ".py",
   "mimetype": "text/x-python",
   "name": "python",
   "nbconvert_exporter": "python",
   "pygments_lexer": "ipython3",
   "version": "3.10.14"
  }
 },
 "nbformat": 4,
 "nbformat_minor": 2
}
