{
 "cells": [
  {
   "cell_type": "code",
   "execution_count": 1,
   "metadata": {},
   "outputs": [],
   "source": [
    "# environment: labelmaker\n",
    "\n",
    "# I had to install:\n",
    "        # pip install -U openmim\n",
    "        # mim install mmsegmentation==0.27.0\n",
    "    # because I got an error, and followed the suggestions here: https://github.com/OpenGVLab/InternImage/issues/208\n"
   ]
  },
  {
   "cell_type": "markdown",
   "metadata": {},
   "source": [
    "## LabelMaker - 1. InternImage"
   ]
  },
  {
   "cell_type": "markdown",
   "metadata": {},
   "source": [
    "\n",
    "```bash\n",
    "export WORKSPACE_DIR=/local/home/gmarsich/data2TB/LabelMaker/processed_ARKitScenes/47333462\n",
    "python models/internimage.py --workspace $WORKSPACE_DIR\n",
    "```"
   ]
  }
 ],
 "metadata": {
  "kernelspec": {
   "display_name": "labelmaker",
   "language": "python",
   "name": "python3"
  },
  "language_info": {
   "codemirror_mode": {
    "name": "ipython",
    "version": 3
   },
   "file_extension": ".py",
   "mimetype": "text/x-python",
   "name": "python",
   "nbconvert_exporter": "python",
   "pygments_lexer": "ipython3",
   "version": "3.10.14"
  }
 },
 "nbformat": 4,
 "nbformat_minor": 2
}
