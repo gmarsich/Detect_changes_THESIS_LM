{
 "cells": [
  {
   "cell_type": "code",
   "execution_count": 7,
   "metadata": {},
   "outputs": [],
   "source": [
    "import open3d as o3d\n",
    "import os\n",
    "import numpy as np\n",
    "# Show the segmentation with Mask3D (computed by LabelMaker)\n",
    "pcd_mask3D = o3d.io.read_point_cloud(os.path.join(\"/local/home/gmarsich/data2TB/LabelMaker/processed_ARKitScenes/40753679/intermediate/scannet200_mask3d_1/mesh_labelled.ply\")) # TODO TOSET: change the name of the point cloud to open\n",
    "o3d.visualization.draw_geometries([pcd_mask3D])\n"
   ]
  },
  {
   "cell_type": "code",
   "execution_count": 4,
   "metadata": {},
   "outputs": [
    {
     "name": "stdout",
     "output_type": "stream",
     "text": [
      "[Open3D INFO] Window window_0 created.\n",
      "[Open3D INFO] EGL headless mode enabled.\n",
      "[Open3D INFO] ICE servers: [\"stun:stun.l.google.com:19302\", \"turn:user:password@34.69.27.100:3478\", \"turn:user:password@34.69.27.100:3478?transport=tcp\"]\n",
      "FEngine (64 bits) created at 0x56217da0e130 (threading is enabled)\n",
      "EGL(1.5)\n",
      "OpenGL(4.1)\n",
      "[Open3D INFO] Set WEBRTC_STUN_SERVER environment variable add a customized WebRTC STUN server.\n",
      "[Open3D INFO] WebRTC Jupyter handshake mode enabled.\n"
     ]
    },
    {
     "ename": "TypeError",
     "evalue": "add_geometry(): incompatible function arguments. The following argument types are supported:\n    1. (self: open3d.cuda.pybind.visualization.O3DVisualizer, name: str, geometry: open3d.cuda.pybind.geometry.Geometry3D, material: open3d.cuda.pybind.visualization.rendering.MaterialRecord = None, group: str = '', time: float = 0.0, is_visible: bool = True) -> None\n    2. (self: open3d.cuda.pybind.visualization.O3DVisualizer, name: str, geometry: open3d.cuda.pybind.t.geometry.Geometry, material: open3d.cuda.pybind.visualization.rendering.MaterialRecord = None, group: str = '', time: float = 0.0, is_visible: bool = True) -> None\n    3. (self: open3d.cuda.pybind.visualization.O3DVisualizer, name: str, model: open3d.cuda.pybind.visualization.rendering.TriangleMeshModel, material: open3d.cuda.pybind.visualization.rendering.MaterialRecord = None, group: str = '', time: float = 0.0, is_visible: bool = True) -> None\n    4. (self: object, d: dict) -> None\n\nInvoked with: <open3d.cuda.pybind.visualization.O3DVisualizer object at 0x7fad87369370>, 'Object 1', <function draw_label at 0x7fad873ce050>",
     "output_type": "error",
     "traceback": [
      "\u001b[0;31m---------------------------------------------------------------------------\u001b[0m",
      "\u001b[0;31mTypeError\u001b[0m                                 Traceback (most recent call last)",
      "Cell \u001b[0;32mIn[4], line 11\u001b[0m\n\u001b[1;32m      8\u001b[0m     vis\u001b[38;5;241m.\u001b[39madd_text(\u001b[38;5;124m\"\u001b[39m\u001b[38;5;124mHi\u001b[39m\u001b[38;5;124m\"\u001b[39m, position\u001b[38;5;241m=\u001b[39m(\u001b[38;5;241m0\u001b[39m, \u001b[38;5;241m0\u001b[39m, \u001b[38;5;241m0\u001b[39m), font_size\u001b[38;5;241m=\u001b[39m\u001b[38;5;241m20\u001b[39m)  \u001b[38;5;66;03m# Add text annotation\u001b[39;00m\n\u001b[1;32m     10\u001b[0m \u001b[38;5;66;03m# Visualize using custom draw function\u001b[39;00m\n\u001b[0;32m---> 11\u001b[0m \u001b[43mo3d\u001b[49m\u001b[38;5;241;43m.\u001b[39;49m\u001b[43mvisualization\u001b[49m\u001b[38;5;241;43m.\u001b[39;49m\u001b[43mdraw\u001b[49m\u001b[43m(\u001b[49m\u001b[43mdraw_label\u001b[49m\u001b[43m)\u001b[49m\n",
      "File \u001b[0;32m~/Programs/miniconda3/envs/labelmaker/lib/python3.10/site-packages/open3d/visualization/draw.py:180\u001b[0m, in \u001b[0;36mdraw\u001b[0;34m(geometry, title, width, height, actions, lookat, eye, up, field_of_view, intrinsic_matrix, extrinsic_matrix, bg_color, bg_image, ibl, ibl_intensity, show_skybox, show_ui, raw_mode, point_size, line_width, animation_time_step, animation_duration, rpc_interface, on_init, on_animation_frame, on_animation_tick, non_blocking_and_return_uid)\u001b[0m\n\u001b[1;32m    178\u001b[0m         n \u001b[38;5;241m+\u001b[39m\u001b[38;5;241m=\u001b[39m \u001b[38;5;241m1\u001b[39m\n\u001b[1;32m    179\u001b[0m \u001b[38;5;28;01melif\u001b[39;00m geometry \u001b[38;5;129;01mis\u001b[39;00m \u001b[38;5;129;01mnot\u001b[39;00m \u001b[38;5;28;01mNone\u001b[39;00m:\n\u001b[0;32m--> 180\u001b[0m     \u001b[43madd\u001b[49m\u001b[43m(\u001b[49m\u001b[43mgeometry\u001b[49m\u001b[43m,\u001b[49m\u001b[43m \u001b[49m\u001b[43mn\u001b[49m\u001b[43m)\u001b[49m\n\u001b[1;32m    182\u001b[0m w\u001b[38;5;241m.\u001b[39mreset_camera_to_default()  \u001b[38;5;66;03m# make sure far/near get setup nicely\u001b[39;00m\n\u001b[1;32m    183\u001b[0m \u001b[38;5;28;01mif\u001b[39;00m lookat \u001b[38;5;129;01mis\u001b[39;00m \u001b[38;5;129;01mnot\u001b[39;00m \u001b[38;5;28;01mNone\u001b[39;00m \u001b[38;5;129;01mand\u001b[39;00m eye \u001b[38;5;129;01mis\u001b[39;00m \u001b[38;5;129;01mnot\u001b[39;00m \u001b[38;5;28;01mNone\u001b[39;00m \u001b[38;5;129;01mand\u001b[39;00m up \u001b[38;5;129;01mis\u001b[39;00m \u001b[38;5;129;01mnot\u001b[39;00m \u001b[38;5;28;01mNone\u001b[39;00m:\n",
      "File \u001b[0;32m~/Programs/miniconda3/envs/labelmaker/lib/python3.10/site-packages/open3d/visualization/draw.py:172\u001b[0m, in \u001b[0;36mdraw.<locals>.add\u001b[0;34m(g, n)\u001b[0m\n\u001b[1;32m    170\u001b[0m     w\u001b[38;5;241m.\u001b[39madd_geometry(g)\n\u001b[1;32m    171\u001b[0m \u001b[38;5;28;01melse\u001b[39;00m:\n\u001b[0;32m--> 172\u001b[0m     \u001b[43mw\u001b[49m\u001b[38;5;241;43m.\u001b[39;49m\u001b[43madd_geometry\u001b[49m\u001b[43m(\u001b[49m\u001b[38;5;124;43m\"\u001b[39;49m\u001b[38;5;124;43mObject \u001b[39;49m\u001b[38;5;124;43m\"\u001b[39;49m\u001b[43m \u001b[49m\u001b[38;5;241;43m+\u001b[39;49m\u001b[43m \u001b[49m\u001b[38;5;28;43mstr\u001b[39;49m\u001b[43m(\u001b[49m\u001b[43mn\u001b[49m\u001b[43m)\u001b[49m\u001b[43m,\u001b[49m\u001b[43m \u001b[49m\u001b[43mg\u001b[49m\u001b[43m)\u001b[49m\n",
      "\u001b[0;31mTypeError\u001b[0m: add_geometry(): incompatible function arguments. The following argument types are supported:\n    1. (self: open3d.cuda.pybind.visualization.O3DVisualizer, name: str, geometry: open3d.cuda.pybind.geometry.Geometry3D, material: open3d.cuda.pybind.visualization.rendering.MaterialRecord = None, group: str = '', time: float = 0.0, is_visible: bool = True) -> None\n    2. (self: open3d.cuda.pybind.visualization.O3DVisualizer, name: str, geometry: open3d.cuda.pybind.t.geometry.Geometry, material: open3d.cuda.pybind.visualization.rendering.MaterialRecord = None, group: str = '', time: float = 0.0, is_visible: bool = True) -> None\n    3. (self: open3d.cuda.pybind.visualization.O3DVisualizer, name: str, model: open3d.cuda.pybind.visualization.rendering.TriangleMeshModel, material: open3d.cuda.pybind.visualization.rendering.MaterialRecord = None, group: str = '', time: float = 0.0, is_visible: bool = True) -> None\n    4. (self: object, d: dict) -> None\n\nInvoked with: <open3d.cuda.pybind.visualization.O3DVisualizer object at 0x7fad87369370>, 'Object 1', <function draw_label at 0x7fad873ce050>"
     ]
    }
   ],
   "source": [
    "\n",
    "# Create a custom function to add text annotation in the visualization\n",
    "def draw_label(vis):\n",
    "    vis.add_geometry(pcd_mask3D)\n",
    "    vis.add_geometry(o3d.geometry.TriangleMesh.create_coordinate_frame(size=0.5))  # Optional: add coordinate frame for reference\n",
    "    \n",
    "    # Add text annotation anchored at (0, 0, 0)\n",
    "    vis.add_geometry(o3d.geometry.TriangleMesh.create_sphere(radius=0.01))  # Anchor point visualization\n",
    "    vis.add_text(\"Hi\", position=(0, 0, 0), font_size=20)  # Add text annotation\n",
    "\n",
    "# Visualize using custom draw function\n",
    "o3d.visualization.draw(draw_label)"
   ]
  }
 ],
 "metadata": {
  "kernelspec": {
   "display_name": "thesisPlayground_pointClouds_env",
   "language": "python",
   "name": "python3"
  },
  "language_info": {
   "codemirror_mode": {
    "name": "ipython",
    "version": 3
   },
   "file_extension": ".py",
   "mimetype": "text/x-python",
   "name": "python",
   "nbconvert_exporter": "python",
   "pygments_lexer": "ipython3",
   "version": "3.10.14"
  }
 },
 "nbformat": 4,
 "nbformat_minor": 2
}
