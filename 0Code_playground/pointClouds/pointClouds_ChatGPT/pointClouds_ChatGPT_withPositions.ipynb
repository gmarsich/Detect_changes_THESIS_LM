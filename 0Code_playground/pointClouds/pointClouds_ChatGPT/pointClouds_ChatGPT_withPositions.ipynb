{
 "cells": [
  {
   "cell_type": "code",
   "execution_count": null,
   "metadata": {},
   "outputs": [],
   "source": [
    "# environment: thesisPlayground_pointClouds_env"
   ]
  },
  {
   "cell_type": "code",
   "execution_count": 3,
   "metadata": {},
   "outputs": [
    {
     "name": "stdout",
     "output_type": "stream",
     "text": [
      "Jupyter environment detected. Enabling Open3D WebVisualizer.\n",
      "[Open3D INFO] WebRTC GUI backend enabled.\n",
      "[Open3D INFO] WebRTCWindowSystem: HTTP handshake server disabled.\n"
     ]
    }
   ],
   "source": [
    "import h5py\n",
    "import numpy as np\n",
    "import open3d as o3d\n",
    "import pandas as pd\n",
    "import glob\n",
    "import os"
   ]
  },
  {
   "cell_type": "markdown",
   "metadata": {},
   "source": [
    "# Using positions - Point cloud from one image using the camera-space (use M_cam_from_world)"
   ]
  },
  {
   "cell_type": "markdown",
   "metadata": {},
   "source": [
    "Remark that everything was prepared as if the code had to handle more than one image. However, working in the camera-space would require some modifications in the code, so at the end this section just works to render an image, I guess. A revision is needed in any case; I kept the code because maybe it will turn out useful."
   ]
  },
  {
   "cell_type": "code",
   "execution_count": 4,
   "metadata": {},
   "outputs": [],
   "source": [
    "def load_hdf5_file(file_paths, dataset_key):\n",
    "    data = []\n",
    "    for file in file_paths:\n",
    "        with h5py.File(file, 'r') as f:\n",
    "            data.append(np.array(f[dataset_key]))\n",
    "    return data\n",
    "\n",
    "\n",
    "def build_M_cam_from_world(frame_id, camera_dir):\n",
    "\n",
    "    camera_positions_hdf5_file    = os.path.join(camera_dir, \"camera_keyframe_positions.hdf5\")\n",
    "    camera_orientations_hdf5_file = os.path.join(camera_dir, \"camera_keyframe_orientations.hdf5\")\n",
    "\n",
    "    with h5py.File(camera_positions_hdf5_file,    \"r\") as f: camera_positions    = f[\"dataset\"][:]\n",
    "    with h5py.File(camera_orientations_hdf5_file, \"r\") as f: camera_orientations = f[\"dataset\"][:]\n",
    "\n",
    "    # get position and rotation matrix for Hypersim image\n",
    "    camera_position_world = camera_positions[frame_id]\n",
    "    R_world_from_cam      = camera_orientations[frame_id]\n",
    "\n",
    "    t_world_from_cam = np.array(camera_position_world).reshape((3, 1))\n",
    "    R_cam_from_world = np.array(R_world_from_cam).T\n",
    "    t_cam_from_world = -R_cam_from_world @ t_world_from_cam\n",
    "\n",
    "    M_cam_from_world = np.block([[R_cam_from_world, t_cam_from_world],\n",
    "                                 [np.zeros((1, 3)), np.array([[1.0]])]])\n",
    "    \n",
    "    return M_cam_from_world\n",
    "    \n",
    "\n",
    "def extract_frame_id(filename):\n",
    "    base = os.path.basename(filename)\n",
    "    frame_id = int(base.split('.')[1])\n",
    "    return frame_id\n",
    "\n",
    "\n",
    "def generate_point_cloud(image_files, positions, camera_dir):\n",
    "    point_clouds = []\n",
    "\n",
    "    for img_file, position in zip(image_files, positions):\n",
    "        # Extract frame ID from the image filename\n",
    "        frame_id = extract_frame_id(img_file)\n",
    "\n",
    "        # Build the M_cam_from_world matrix for the current frame\n",
    "        M_cam_from_world = build_M_cam_from_world(frame_id, camera_dir)\n",
    "\n",
    "        # Extracting 3D coordinates of each pixel from positions\n",
    "        X = position[:, :, 0]\n",
    "        Y = position[:, :, 1]\n",
    "        Z = position[:, :, 2]\n",
    "\n",
    "        # Stack X, Y, Z to get point cloud\n",
    "        point_cloud = np.stack((X, Y, Z), axis=-1)\n",
    "\n",
    "        # Reshape point cloud to flatten the array\n",
    "        point_cloud_flat = point_cloud.reshape(-1, 3)\n",
    "\n",
    "        # Convert world-space points to camera-space points\n",
    "        homogeneous_points = np.hstack((point_cloud_flat, np.ones((point_cloud_flat.shape[0], 1))))\n",
    "        camera_space_points = np.dot(M_cam_from_world, homogeneous_points.T).T[:, :3]\n",
    "\n",
    "        # Convert camera-space points to Open3D point cloud format\n",
    "        pcd = o3d.geometry.PointCloud()\n",
    "        pcd.points = o3d.utility.Vector3dVector(camera_space_points)\n",
    "\n",
    "        # Append point cloud to list\n",
    "        point_clouds.append(pcd)\n",
    "\n",
    "    return point_clouds\n",
    "\n",
    "\n",
    "def render_point_cloud(point_cloud):\n",
    "\n",
    "    pcd = point_cloud\n",
    "\n",
    "    # Create a visualization window\n",
    "    vis = o3d.visualization.Visualizer()\n",
    "\n",
    "    # Add the point cloud to the visualization window\n",
    "    vis.create_window()\n",
    "    vis.add_geometry(pcd)\n",
    "\n",
    "    # Set the render options (optional)\n",
    "    render_options = vis.get_render_option()\n",
    "    render_options.point_size = 2  # Adjust the size of the points\n",
    "\n",
    "    # Render the visualization\n",
    "    vis.run()\n",
    "\n",
    "    # Close the visualization window\n",
    "    vis.destroy_window()\n"
   ]
  },
  {
   "cell_type": "code",
   "execution_count": 16,
   "metadata": {},
   "outputs": [],
   "source": [
    "path_metadata = '/local/home/gmarsich/Desktop/Thesis/0Code_playground/pointClouds/pointClouds_ChatGPT/metadata_camera_parameters.csv'\n",
    "base_path = '/local/home/gmarsich/data2TB/Hypersim/evermotion_dataset/scenes'\n",
    "scene = 'ai_007_008'  # name of the scene, with format ai_VVV_NNN\n",
    "cam_xx = 'cam_00'\n",
    "\n",
    "# Get directory for info\n",
    "camera_dir = os.path.join(base_path, scene, \"_detail\", cam_xx)\n",
    "\n",
    "# Get list of image and position HDF5 files\n",
    "image_files = sorted(glob.glob(os.path.join(base_path, scene, 'images', 'scene_' + cam_xx + '_final_hdf5', '*.color.hdf5')))\n",
    "position_files = sorted(glob.glob(os.path.join(base_path, scene, 'images', 'scene_' + cam_xx + '_geometry_hdf5', '*.position.hdf5')))\n",
    "\n",
    "# HERE WE SELECT JUST ONE IMAGE\n",
    "frame = 0\n",
    "image_files = [image_files[frame]]\n",
    "position_files = [position_files[frame]]\n",
    "\n",
    "\n",
    "# Ensure the number of image and position files match\n",
    "if len(image_files) != len(position_files):\n",
    "    raise ValueError(\"The number of image files and position files do not match.\")"
   ]
  },
  {
   "cell_type": "code",
   "execution_count": 17,
   "metadata": {},
   "outputs": [
    {
     "name": "stdout",
     "output_type": "stream",
     "text": [
      "PointCloud with 786432 points.\n"
     ]
    }
   ],
   "source": [
    "# Load images and position data\n",
    "images = load_hdf5_file(image_files, 'dataset')\n",
    "positions = load_hdf5_file(position_files, 'dataset')\n",
    "\n",
    "# Generate point clouds for each view\n",
    "point_clouds = generate_point_cloud(image_files, positions, camera_dir)\n",
    "\n",
    "cloud = point_clouds[0]\n",
    "print(cloud)\n",
    "\n",
    "render_point_cloud(point_clouds[0])"
   ]
  },
  {
   "cell_type": "markdown",
   "metadata": {},
   "source": [
    "# Using positions - Point cloud from more images using the world-space"
   ]
  },
  {
   "cell_type": "code",
   "execution_count": 18,
   "metadata": {},
   "outputs": [],
   "source": [
    "def load_hdf5_file(file_paths, dataset_key):\n",
    "    data = []\n",
    "    for file in file_paths:\n",
    "        with h5py.File(file, 'r') as f:\n",
    "            data.append(np.array(f[dataset_key]))\n",
    "    return data\n",
    "\n",
    "\n",
    "def generate_point_cloud(images, positions):\n",
    "    point_clouds = []\n",
    "\n",
    "    for position in positions:\n",
    "        # Extracting 3D coordinates of each pixel from positions\n",
    "        X = position[:, :, 0]\n",
    "        Y = position[:, :, 1]\n",
    "        Z = position[:, :, 2]\n",
    "\n",
    "        # Stack X, Y, Z to get point cloud\n",
    "        point_cloud = np.stack((X, Y, Z), axis=-1)\n",
    "\n",
    "        # Convert numpy array to Open3D point cloud format\n",
    "        pcd = o3d.geometry.PointCloud()\n",
    "        pcd.points = o3d.utility.Vector3dVector(point_cloud.reshape(-1, 3))\n",
    "\n",
    "        # Append point cloud to list\n",
    "        point_clouds.append(pcd)\n",
    "\n",
    "    return point_clouds\n",
    "\n",
    "\n",
    "def combine_point_clouds(point_clouds):\n",
    "    # Combine all point clouds into a single point cloud\n",
    "    combined_cloud = o3d.geometry.PointCloud()\n",
    "    for pcd in point_clouds:\n",
    "        combined_cloud += pcd\n",
    "\n",
    "    return combined_cloud\n",
    "\n",
    "\n",
    "def render_point_cloud(point_cloud):\n",
    "\n",
    "    pcd = point_cloud\n",
    "\n",
    "    # Create a visualization window\n",
    "    vis = o3d.visualization.Visualizer()\n",
    "\n",
    "    # Add the point cloud to the visualization window\n",
    "    vis.create_window()\n",
    "    vis.add_geometry(pcd)\n",
    "\n",
    "    # Set the render options (optional)\n",
    "    render_options = vis.get_render_option()\n",
    "    render_options.point_size = 2  # Adjust the size of the points\n",
    "\n",
    "    # Render the visualization\n",
    "    vis.run()\n",
    "\n",
    "    # Close the visualization window\n",
    "    vis.destroy_window()\n"
   ]
  },
  {
   "cell_type": "code",
   "execution_count": 21,
   "metadata": {},
   "outputs": [],
   "source": [
    "path_metadata = '/local/home/gmarsich/Desktop/Thesis/0Code_playground/pointClouds/pointClouds_ChatGPT/metadata_camera_parameters.csv'\n",
    "base_path = '/local/home/gmarsich/data2TB/Hypersim/evermotion_dataset/scenes'\n",
    "scene = 'ai_007_008'  # name of the scene, with format ai_VVV_NNN\n",
    "cam_xx = 'cam_00'\n",
    "\n",
    "# Get list of image and position HDF5 files\n",
    "image_files = sorted(glob.glob(os.path.join(base_path, scene, 'images', 'scene_' + cam_xx + '_final_hdf5', '*.color.hdf5')))\n",
    "position_files = sorted(glob.glob(os.path.join(base_path, scene, 'images', 'scene_' + cam_xx + '_geometry_hdf5', '*.position.hdf5')))\n",
    "\n",
    "# Ensure the number of image and position files match\n",
    "if len(image_files) != len(position_files):\n",
    "    raise ValueError(\"The number of image files and position files do not match.\")"
   ]
  },
  {
   "cell_type": "code",
   "execution_count": 22,
   "metadata": {},
   "outputs": [],
   "source": [
    "# Load images and position data\n",
    "images = load_hdf5_file(image_files, 'dataset')\n",
    "positions = load_hdf5_file(position_files, 'dataset')\n",
    "\n",
    "\n",
    "# Generate point clouds for each view\n",
    "point_clouds = generate_point_cloud(images, positions)\n",
    "\n",
    "# Combine all individual point clouds into a single point cloud\n",
    "combined_point_cloud = combine_point_clouds(point_clouds)\n",
    "\n",
    "# Render the visualization of the combined point cloud\n",
    "render_point_cloud(combined_point_cloud)\n"
   ]
  }
 ],
 "metadata": {
  "kernelspec": {
   "display_name": "thesisPlayground_pointClouds_env",
   "language": "python",
   "name": "python3"
  },
  "language_info": {
   "codemirror_mode": {
    "name": "ipython",
    "version": 3
   },
   "file_extension": ".py",
   "mimetype": "text/x-python",
   "name": "python",
   "nbconvert_exporter": "python",
   "pygments_lexer": "ipython3",
   "version": "3.10.12"
  }
 },
 "nbformat": 4,
 "nbformat_minor": 2
}
