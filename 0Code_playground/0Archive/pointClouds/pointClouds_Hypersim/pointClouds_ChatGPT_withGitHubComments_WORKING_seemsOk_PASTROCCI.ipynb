{
 "cells": [
  {
   "cell_type": "code",
   "execution_count": 1,
   "metadata": {},
   "outputs": [],
   "source": [
    "# environment: thesisPlayground_pointClouds_env"
   ]
  },
  {
   "cell_type": "code",
   "execution_count": 2,
   "metadata": {},
   "outputs": [
    {
     "name": "stdout",
     "output_type": "stream",
     "text": [
      "Jupyter environment detected. Enabling Open3D WebVisualizer.\n",
      "[Open3D INFO] WebRTC GUI backend enabled.\n",
      "[Open3D INFO] WebRTCWindowSystem: HTTP handshake server disabled.\n"
     ]
    }
   ],
   "source": [
    "import h5py\n",
    "import numpy as np\n",
    "import open3d as o3d\n",
    "import pandas as pd\n",
    "import glob\n",
    "import os"
   ]
  },
  {
   "cell_type": "markdown",
   "metadata": {},
   "source": [
    "# Using depths"
   ]
  },
  {
   "cell_type": "markdown",
   "metadata": {},
   "source": [
    "Hints on how to deal with this problem from:\n",
    "- https://github.com/apple/ml-hypersim/issues/9"
   ]
  },
  {
   "cell_type": "code",
   "execution_count": 3,
   "metadata": {},
   "outputs": [],
   "source": [
    "path_metadata_camera_parameters = '/local/home/gmarsich/Desktop/Thesis/0Code_playground/pointClouds_Hypersim/withDepths/metadata_camera_parameters.csv'\n",
    "base_path = '/local/home/gmarsich/data2TB/Hypersim/evermotion_dataset/scenes'\n",
    "scene = 'ai_001_001'  # name of the scene, with format ai_VVV_NNN\n",
    "cam_xx = 'cam_00'\n",
    "\n",
    "# Get list of image and depth HDF5 files\n",
    "paths_images = sorted(glob.glob(os.path.join(base_path, scene, 'images', 'scene_' + cam_xx + '_final_hdf5', '*.color.hdf5')))\n",
    "paths_depthEuclidean = sorted(glob.glob(os.path.join(base_path, scene, 'images', 'scene_' + cam_xx + '_geometry_hdf5', '*.depth_meters.hdf5')))\n",
    "\n",
    "# Get orientations and positions\n",
    "path_orientations = os.path.join(base_path, scene, '_detail', cam_xx, 'camera_keyframe_orientations.hdf5')\n",
    "path_positions = os.path.join(base_path, scene, '_detail', cam_xx, 'camera_keyframe_positions.hdf5')\n"
   ]
  },
  {
   "cell_type": "markdown",
   "metadata": {},
   "source": [
    "### Computations"
   ]
  },
  {
   "cell_type": "code",
   "execution_count": 4,
   "metadata": {},
   "outputs": [
    {
     "name": "stdout",
     "output_type": "stream",
     "text": [
      "0.0253999996930359996094583863168736570514738559722900390625\n"
     ]
    }
   ],
   "source": [
    "from decimal import Decimal, getcontext\n",
    "\n",
    "def get_metadata(path_metadata_camera_parameters, scene):\n",
    "    # Load the metadata CSV file\n",
    "    df = pd.read_csv(path_metadata_camera_parameters)\n",
    "    \n",
    "    # Filter the DataFrame to get the row corresponding to the specified scene\n",
    "    scene_row = df[df['scene_name'] == scene]\n",
    "\n",
    "    return scene_row\n",
    "\n",
    "# Set the precision for the decimal module\n",
    "getcontext().prec = 50\n",
    "\n",
    "scene_row = get_metadata(path_metadata_camera_parameters, scene)\n",
    "\n",
    "# Extract the specific column value\n",
    "column_value = scene_row['settings_units_info_meters_scale'].values[0]\n",
    "\n",
    "# Convert to Decimal for highest precision\n",
    "decimal_value = Decimal(column_value)\n",
    "\n",
    "# Print the entire number with full precision\n",
    "print(decimal_value)\n"
   ]
  },
  {
   "cell_type": "code",
   "execution_count": null,
   "metadata": {},
   "outputs": [],
   "source": []
  },
  {
   "cell_type": "markdown",
   "metadata": {},
   "source": [
    "### Real code"
   ]
  },
  {
   "cell_type": "code",
   "execution_count": 5,
   "metadata": {},
   "outputs": [],
   "source": [
    "def get_depths_oneImage(path_file_depths, intWidth = 1024, intHeight = 768, fltFocal = 886.81, factor_assets_to_meters = 0.025399999693035999609458386316873657):\n",
    "\n",
    "    with h5py.File(path_file_depths, 'r') as file:\n",
    "        # Access the dataset\n",
    "        dataset = file['dataset']\n",
    "        \n",
    "        # Read the data from the dataset\n",
    "        data = dataset[:] # len(data) is 768, len(data[0]) is 1024, data[0][0] is the value of the depth\n",
    "\n",
    "        npyImageplaneX = np.linspace((-0.5 * intWidth) + 0.5, (0.5 * intWidth) - 0.5, intWidth).reshape(1, intWidth).repeat(intHeight, 0).astype(np.float32)[:, :, None]\n",
    "        npyImageplaneY = np.linspace((-0.5 * intHeight) + 0.5, (0.5 * intHeight) - 0.5, intHeight).reshape(intHeight, 1).repeat(intWidth, 1).astype(np.float32)[:, :, None]\n",
    "        npyImageplaneZ = np.full([intHeight, intWidth, 1], fltFocal, np.float32)\n",
    "        npyImageplane = np.concatenate([npyImageplaneX, npyImageplaneY, npyImageplaneZ], 2)\n",
    "\n",
    "        npyDepth_meters = data / np.linalg.norm(npyImageplane, 2, 2) * fltFocal\n",
    "\n",
    "        npyDepth_assets = npyDepth_meters / factor_assets_to_meters\n",
    "\n",
    "        return npyDepth_assets\n",
    "    \n",
    "\n",
    "def get_depths(path_list):\n",
    "    '''Each element of depth_files will be a representation of an image'''\n",
    "    \n",
    "    depth_files = []\n",
    "    for i in range(len(path_list)):\n",
    "        depth_files.append(get_depths_oneImage(path_list[i]))\n",
    "\n",
    "    return depth_files\n",
    "\n"
   ]
  },
  {
   "cell_type": "code",
   "execution_count": 6,
   "metadata": {},
   "outputs": [],
   "source": [
    "def generate_point_cloud_SIMPLE(files_depths):\n",
    "\n",
    "    width_pixels = 1024 # TODO maybe should be a parameter\n",
    "    height_pixels = 768 # TODO maybe should be a parameter\n",
    "\n",
    "    fx = 886.81 # TODO maybe should be a parameter\n",
    "    fy = fx\n",
    "\n",
    "    point_clouds = []\n",
    "\n",
    "    for depths in files_depths:\n",
    "\n",
    "        cam_coo = []\n",
    "\n",
    "        for y in range(height_pixels):\n",
    "            for x in range(width_pixels):\n",
    "                z_cam = - depths[y][x] # the - is because of the coordinate system\n",
    "                x_cam = (x - width_pixels/2) / fx * (-z_cam) \n",
    "                y_cam = -(y - height_pixels/2) / fy * (-z_cam) # TODO maybe something to change the coordinates should be done\n",
    "                xyz_cam = [x_cam, y_cam, z_cam]\n",
    "\n",
    "                cam_coo.append(xyz_cam)\n",
    "\n",
    "        pcd = o3d.geometry.PointCloud()\n",
    "        pcd.points = o3d.utility.Vector3dVector(cam_coo)\n",
    "        point_clouds.append(pcd)\n",
    "\n",
    "\n",
    "    return point_clouds\n"
   ]
  },
  {
   "cell_type": "code",
   "execution_count": 7,
   "metadata": {},
   "outputs": [],
   "source": [
    "def extract_frames_ids(paths_filenames):\n",
    "    \"\"\"\n",
    "    Extracts frame IDs from a list of filenames.\n",
    "    \n",
    "    Parameters:\n",
    "        paths_filenames (list): List of file paths. Last info of a path is the filename.\n",
    "    \n",
    "    Returns:\n",
    "        list: List of extracted frame IDs.\n",
    "    \"\"\"\n",
    "\n",
    "    frame_ids = []\n",
    "    for path_filename in paths_filenames:\n",
    "        filename = path_filename.split('/')[-1]  # Extracting just the filename from the path\n",
    "        frame_id_str = filename.split('.')[1]\n",
    "        frame_id = int(frame_id_str)\n",
    "        frame_ids.append(frame_id)\n",
    "\n",
    "    return frame_ids\n",
    "\n",
    "\n",
    "def get_extrinsics_oneImage(path_position, path_orientation, frame_id):\n",
    "    \"\"\"\n",
    "    Load camera position and orientation from HDF5 files and compute the extrinsic matrix.\n",
    "\n",
    "    Parameters:\n",
    "        path_position (str): Path to the camera positions HDF5 file.\n",
    "        path_orientation (str): Path to the camera orientations HDF5 file.\n",
    "        frame_id (int): Frame ID to extract the extrinsics for.\n",
    "\n",
    "    Returns:\n",
    "        np.ndarray: The extrinsic matrix [R|t].\n",
    "    \"\"\"\n",
    "\n",
    "    # Load camera position\n",
    "    with h5py.File(path_position, \"r\") as f:\n",
    "        camera_positions = f[\"dataset\"][:]\n",
    "    \n",
    "    # Load camera orientation\n",
    "    with h5py.File(path_orientation, \"r\") as f:\n",
    "        camera_orientations = f[\"dataset\"][:]\n",
    "    \n",
    "    # Get position and rotation matrix for the specified frame\n",
    "    camera_position_world = camera_positions[frame_id]\n",
    "    R_world_from_cam = camera_orientations[frame_id]\n",
    "\n",
    "    # Construct the extrinsic matrix [R|t]\n",
    "    extrinsic_matrix = np.hstack((R_world_from_cam, camera_position_world.reshape(3, 1)))\n",
    "    \n",
    "    return extrinsic_matrix\n",
    "\n",
    "\n",
    "def get_extrinsics(path_positions, path_orientations, frames_ids):\n",
    "    extrinsics_matrices = []\n",
    "    for i in range(len(frames_ids)):\n",
    "        extrinsics_matrices.append(get_extrinsics_oneImage(path_positions, path_orientations, frames_ids[i]))\n",
    "\n",
    "    return extrinsics_matrices"
   ]
  },
  {
   "cell_type": "code",
   "execution_count": 8,
   "metadata": {},
   "outputs": [],
   "source": [
    "def generate_point_cloud(files_depths, extrinsics_matrices):\n",
    "\n",
    "    width_pixels = 1024 # TODO maybe should be a parameter\n",
    "    height_pixels = 768 # TODO maybe should be a parameter\n",
    "\n",
    "    fx = 886.81 # TODO maybe should be a parameter\n",
    "    fy = fx\n",
    "\n",
    "    point_clouds = []\n",
    "\n",
    "    for i in range(len(files_depths)):\n",
    "        depths = files_depths[i]\n",
    "        world_coo = []\n",
    "\n",
    "        for y in range(height_pixels):\n",
    "            for x in range(width_pixels):\n",
    "                z_cam = - depths[y][x] # the - is because of the coordinate system\n",
    "                x_cam = (x - width_pixels/2) / fx * (-z_cam) \n",
    "                y_cam = -(y - height_pixels/2) / fy * (-z_cam) # TODO maybe something to change the coordinates should be done\n",
    "                xyz_cam = np.array([x_cam, y_cam, z_cam])\n",
    "                xyz_cam_One = np.append(xyz_cam, 1)\n",
    "\n",
    "                world_coordinates = np.dot(extrinsics_matrices[i], xyz_cam_One.reshape(4, 1)).flatten()\n",
    "                world_coo.append(world_coordinates)\n",
    "\n",
    "        pcd = o3d.geometry.PointCloud()\n",
    "        pcd.points = o3d.utility.Vector3dVector(world_coo)\n",
    "        point_clouds.append(pcd)\n",
    "\n",
    "\n",
    "    return point_clouds\n"
   ]
  },
  {
   "cell_type": "code",
   "execution_count": 9,
   "metadata": {},
   "outputs": [
    {
     "name": "stdout",
     "output_type": "stream",
     "text": [
      "[[ 7.41193831e-01 -3.51180434e-01  5.72105408e-01  1.03228874e+02]\n",
      " [ 5.79402149e-01 -9.57124457e-02 -8.09399724e-01 -1.17227142e+02]\n",
      " [ 3.39002311e-01  9.31402802e-01  1.32532686e-01  6.23017311e+01]]\n"
     ]
    }
   ],
   "source": [
    "depth_files = get_depths(paths_depthEuclidean)\n",
    "frames_ids = extract_frames_ids(paths_depthEuclidean)\n",
    "\n",
    "extrinsics_matrices = get_extrinsics(path_positions, path_orientations, frames_ids)\n",
    "print(extrinsics_matrices[0])"
   ]
  },
  {
   "cell_type": "code",
   "execution_count": 10,
   "metadata": {},
   "outputs": [],
   "source": [
    "point_clouds = generate_point_cloud(depth_files, extrinsics_matrices)"
   ]
  },
  {
   "cell_type": "code",
   "execution_count": 12,
   "metadata": {},
   "outputs": [],
   "source": [
    "def merge_point_clouds(point_clouds):\n",
    "    \"\"\"\n",
    "    Merges multiple Open3D PointCloud objects into a single PointCloud object.\n",
    "\n",
    "    Parameters:\n",
    "        point_clouds (list of o3d.geometry.PointCloud): A list of Open3D PointCloud objects.\n",
    "\n",
    "    Returns:\n",
    "        o3d.geometry.PointCloud: A single Open3D PointCloud object containing the merged 3D coordinates of all point clouds.\n",
    "    \"\"\"\n",
    "    # Create an empty Open3D PointCloud object to store the merged point cloud\n",
    "    merged_point_cloud = o3d.geometry.PointCloud()\n",
    "    \n",
    "    # Concatenate all the individual point clouds into a single point cloud\n",
    "    for pcd in point_clouds:\n",
    "        merged_point_cloud += pcd\n",
    "    \n",
    "    return merged_point_cloud\n"
   ]
  },
  {
   "cell_type": "code",
   "execution_count": 13,
   "metadata": {},
   "outputs": [],
   "source": [
    "merged = merge_point_clouds(point_clouds)"
   ]
  },
  {
   "cell_type": "code",
   "execution_count": 14,
   "metadata": {},
   "outputs": [],
   "source": [
    "o3d.visualization.draw_geometries([merged])"
   ]
  },
  {
   "cell_type": "code",
   "execution_count": 15,
   "metadata": {},
   "outputs": [],
   "source": [
    "\n",
    "\n",
    "\n",
    "\n",
    "# # Ensure the number of image and depth files match\n",
    "# if len(image_files) != len(depth_files):\n",
    "#     raise ValueError(\"The number of image files and depth files do not match.\")"
   ]
  }
 ],
 "metadata": {
  "kernelspec": {
   "display_name": "thesisPlayground_pointClouds_env",
   "language": "python",
   "name": "python3"
  },
  "language_info": {
   "codemirror_mode": {
    "name": "ipython",
    "version": 3
   },
   "file_extension": ".py",
   "mimetype": "text/x-python",
   "name": "python",
   "nbconvert_exporter": "python",
   "pygments_lexer": "ipython3",
   "version": "3.10.12"
  }
 },
 "nbformat": 4,
 "nbformat_minor": 2
}
