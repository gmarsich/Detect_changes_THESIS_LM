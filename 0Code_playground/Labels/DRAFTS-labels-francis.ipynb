{
 "cells": [
  {
   "cell_type": "code",
   "execution_count": 3,
   "metadata": {},
   "outputs": [
    {
     "name": "stdout",
     "output_type": "stream",
     "text": [
      "\n",
      "************************************************************************\n",
      "1) Start local server:\n",
      "    cd /local/home/gmarsich/Desktop/Thesis/0Code_playground/Labels/example_text; python -m http.server 6008\n",
      "2) Open in browser:\n",
      "    http://localhost:6008\n",
      "************************************************************************\n"
     ]
    }
   ],
   "source": [
    "import open3d as o3d\n",
    "import os\n",
    "\n",
    "import numpy as np\n",
    "from pyviz3d import visualizer as viz\n",
    "\n",
    "\n",
    "def main():\n",
    "\n",
    "    # First, we set up a visualizer\n",
    "    v = viz.Visualizer()\n",
    "\n",
    "    v.add_labels(name ='Labels',\n",
    "                 labels = ['text_x', 'texty_y', 'text_z'],\n",
    "                 positions = [np.array([1.0, 0.0, 0.0]), np.array([0.0, 1.0, 0.0]), np.array([0.0, 0.0, 1.0])],\n",
    "                 colors = [np.array([255.0, 0.0, 0.0]), np.array([0.0, 255.0, 0.0]), np.array([0.0, 0.0, 255.0])],\n",
    "                 visible=True)\n",
    "\n",
    "    # When we added everything we need to the visualizer, we save it.\n",
    "    v.save('example_text')\n",
    "\n",
    "\n",
    "if __name__ == '__main__':\n",
    "    main()\n",
    "\n",
    "\n"
   ]
  },
  {
   "cell_type": "code",
   "execution_count": 22,
   "metadata": {},
   "outputs": [
    {
     "name": "stdout",
     "output_type": "stream",
     "text": [
      "\n",
      "************************************************************************\n",
      "1) Start local server:\n",
      "    cd /local/home/gmarsich/Desktop/Thesis/0Code_playground/Labels/example_point_clouds; python -m http.server 6008\n",
      "2) Open in browser:\n",
      "    http://localhost:6008\n",
      "************************************************************************\n"
     ]
    }
   ],
   "source": [
    "import numpy as np\n",
    "import pyviz3d.visualizer as viz\n",
    "\n",
    "pcd_mask3D = o3d.io.read_point_cloud(os.path.join(\"/local/home/gmarsich/data2TB/LabelMaker/processed_ARKitScenes/40753679/intermediate/scannet200_mask3d_1/mesh_labelled.ply\"))\n",
    "# o3d.visualization.draw_geometries([pcd_mask3D])\n",
    "\n",
    "\n",
    "\n",
    "\n",
    "\n",
    "\n",
    "# First, we set up a visualizer\n",
    "v = viz.Visualizer()\n",
    "\n",
    "name = 'Point cloud'\n",
    "point_positions = np.asarray(pcd_mask3D.points)\n",
    "point_colors = (np.asarray(pcd_mask3D.colors) * 255).astype(np.uint8)\n",
    "point_size = 10\n",
    "\n",
    "# Here we add point clouds to the visualizer\n",
    "v.add_points(name, point_positions, point_colors, point_size=point_size, visible=False)\n",
    "\n",
    "# When we added everything we need to the visualizer, we save it.\n",
    "v.save('example_point_clouds')\n"
   ]
  }
 ],
 "metadata": {
  "kernelspec": {
   "display_name": "labelmaker",
   "language": "python",
   "name": "python3"
  },
  "language_info": {
   "codemirror_mode": {
    "name": "ipython",
    "version": 3
   },
   "file_extension": ".py",
   "mimetype": "text/x-python",
   "name": "python",
   "nbconvert_exporter": "python",
   "pygments_lexer": "ipython3",
   "version": "3.10.14"
  }
 },
 "nbformat": 4,
 "nbformat_minor": 2
}
