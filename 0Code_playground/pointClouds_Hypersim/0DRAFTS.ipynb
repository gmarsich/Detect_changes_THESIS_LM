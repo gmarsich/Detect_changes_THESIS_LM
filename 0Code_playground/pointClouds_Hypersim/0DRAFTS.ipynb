{
 "cells": [
  {
   "cell_type": "code",
   "execution_count": 18,
   "metadata": {},
   "outputs": [
    {
     "name": "stdout",
     "output_type": "stream",
     "text": [
      "[100008 300006 400012]\n"
     ]
    }
   ],
   "source": [
    "import numpy as np\n",
    "\n",
    "matrix1 = [[1,2,1, 100000],\n",
    "        [1 ,1,1, 300000],\n",
    "        [2 ,2,2, 400000]]\n",
    "\n",
    "xyz_cam = np.array([1, 2, 3])\n",
    "xyz_cam_One = np.append(xyz_cam, 1)\n",
    "\n",
    "world_coordinates = np.dot(matrix1, xyz_cam_One.reshape(4, 1)).flatten()\n",
    "print(world_coordinates)\n"
   ]
  }
 ],
 "metadata": {
  "kernelspec": {
   "display_name": "thesisPlayground_pointClouds_env",
   "language": "python",
   "name": "python3"
  },
  "language_info": {
   "codemirror_mode": {
    "name": "ipython",
    "version": 3
   },
   "file_extension": ".py",
   "mimetype": "text/x-python",
   "name": "python",
   "nbconvert_exporter": "python",
   "pygments_lexer": "ipython3",
   "version": "3.10.12"
  }
 },
 "nbformat": 4,
 "nbformat_minor": 2
}
