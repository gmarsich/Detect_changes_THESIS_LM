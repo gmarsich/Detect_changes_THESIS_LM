{
 "cells": [
  {
   "cell_type": "code",
   "execution_count": 5,
   "metadata": {},
   "outputs": [],
   "source": [
    "# import open3d as o3d\n",
    "# import os\n",
    "# import json\n",
    "# import numpy as np\n",
    "\n",
    "# pcd = o3d.io.read_point_cloud(os.path.join(\"/local/home/gmarsich/data2TB/DATASETS/Replica/frl_apartment_0/mesh.ply\"))\n",
    "\n",
    "# # Load semantic.json\n",
    "# with open(\"/local/home/gmarsich/data2TB/DATASETS/Replica/frl_apartment_0/semantic.json\", \"r\") as f:\n",
    "#     semantic_info = json.load(f)\n",
    "\n",
    "# # Assuming semantic.bin contains per-point labels\n",
    "# semantic_data = np.fromfile(\"/local/home/gmarsich/data2TB/DATASETS/Replica/frl_apartment_0/semantic.bin\", dtype=np.uint32)\n",
    "\n",
    "# # Ensure the number of labels matches the number of points\n",
    "# if len(semantic_data) != len(pcd.points):\n",
    "#     raise ValueError(\"The number of semantic labels does not match the number of points in the point cloud.\")\n",
    "\n",
    "\n",
    "# o3d.visualization.draw_geometries([pcd])"
   ]
  },
  {
   "cell_type": "code",
   "execution_count": 2,
   "metadata": {},
   "outputs": [
    {
     "name": "stdout",
     "output_type": "stream",
     "text": [
      "Reading input...\n",
      "Filtering data...\n",
      "Writing data...\n"
     ]
    }
   ],
   "source": [
    "# Get the files with the segmentation\n",
    "\n",
    "from plyfile import *\n",
    "import numpy as np\n",
    "\n",
    "path_in = '/local/home/gmarsich/data2TB/DATASETS/Replica/frl_apartment_0/habitat/mesh_semantic.ply'\n",
    "\n",
    "print(\"Reading input...\")\n",
    "file_in = PlyData.read(path_in)\n",
    "vertices_in = file_in.elements[0]\n",
    "faces_in = file_in.elements[1]\n",
    "\n",
    "print(\"Filtering data...\")\n",
    "objects = {}\n",
    "for f in faces_in:\n",
    "     object_id = f[1]\n",
    "     if not object_id in objects:\n",
    "         objects[object_id] = []\n",
    "     objects[object_id].append((f[0],))\n",
    "\n",
    "print(\"Writing data...\")\n",
    "for object_id, faces in objects.items():\n",
    "    path_out = path_in + f\"_{object_id}.ply\"\n",
    "    faces_out = PlyElement.describe(np.array(faces, dtype=[('vertex_indices', 'O')]), 'face')\n",
    "    PlyData([vertices_in, faces_out]).write(path_out)"
   ]
  },
  {
   "cell_type": "code",
   "execution_count": 26,
   "metadata": {},
   "outputs": [],
   "source": [
    "# Visualise an object\n",
    "\n",
    "import open3d as o3d\n",
    "\n",
    "# Specify the path to one of the output PLY files\n",
    "path_to_output_ply = '/local/home/gmarsich/data2TB/DATASETS/Replica/frl_apartment_0/habitat/Segmentation/mesh_semantic.ply_165.ply'\n",
    "\n",
    "# Load the PLY file\n",
    "mesh = o3d.io.read_triangle_mesh(path_to_output_ply)\n",
    "\n",
    "# Check if the mesh was loaded correctly\n",
    "if not mesh.has_triangles():\n",
    "    raise ValueError(f\"Failed to load mesh from {path_to_output_ply}\")\n",
    "\n",
    "# Compute vertex normals (if they are not already present)\n",
    "mesh.compute_vertex_normals()\n",
    "\n",
    "# Visualize the mesh\n",
    "o3d.visualization.draw_geometries([mesh])"
   ]
  },
  {
   "cell_type": "code",
   "execution_count": 15,
   "metadata": {},
   "outputs": [],
   "source": [
    "import open3d as o3d\n",
    "\n",
    "path_to_mesh_ply = '/local/home/gmarsich/data2TB/DATASETS/Replica/frl_apartment_0/habitat/Segmentation/mesh_semantic.ply_47.ply'\n",
    "mesh = o3d.io.read_triangle_mesh(path_to_mesh_ply)\n",
    "mesh.compute_vertex_normals()\n",
    "\n",
    "# Sample points from the mesh\n",
    "point_cloud = mesh.sample_points_uniformly(number_of_points=10000)  #TODO TOSET # Adjust the number of points as needed\n",
    "\n",
    "o3d.visualization.draw_geometries([point_cloud])"
   ]
  }
 ],
 "metadata": {
  "kernelspec": {
   "display_name": "thesisPlayground_pointClouds_env",
   "language": "python",
   "name": "python3"
  },
  "language_info": {
   "codemirror_mode": {
    "name": "ipython",
    "version": 3
   },
   "file_extension": ".py",
   "mimetype": "text/x-python",
   "name": "python",
   "nbconvert_exporter": "python",
   "pygments_lexer": "ipython3",
   "version": "3.10.14"
  }
 },
 "nbformat": 4,
 "nbformat_minor": 2
}
