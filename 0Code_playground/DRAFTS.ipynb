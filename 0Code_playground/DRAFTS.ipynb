{
 "cells": [
  {
   "cell_type": "code",
   "execution_count": 3,
   "metadata": {},
   "outputs": [],
   "source": [
    "import open3d as o3d\n",
    "import os\n",
    "\n",
    "pcd_mask3D = o3d.io.read_point_cloud(os.path.join(\"/local/home/gmarsich/Desktop/3RScan/scenes/4acaebcc-6c10-2a2a-858b-29c7e4fb410d/labels.instances.align.annotated.v2.ply\")) # TODO TOSET: change the name of the point cloud to open\n",
    "o3d.visualization.draw_geometries([pcd_mask3D])"
   ]
  }
 ],
 "metadata": {
  "kernelspec": {
   "display_name": "sceneGraphs_groundTruth_Replica",
   "language": "python",
   "name": "python3"
  },
  "language_info": {
   "codemirror_mode": {
    "name": "ipython",
    "version": 3
   },
   "file_extension": ".py",
   "mimetype": "text/x-python",
   "name": "python",
   "nbconvert_exporter": "python",
   "pygments_lexer": "ipython3",
   "version": "3.10.14"
  }
 },
 "nbformat": 4,
 "nbformat_minor": 2
}
