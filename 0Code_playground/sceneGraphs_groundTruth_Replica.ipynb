{
 "cells": [
  {
   "cell_type": "code",
   "execution_count": 4,
   "metadata": {},
   "outputs": [],
   "source": [
    "# environment: sceneGraphs_groundTruth_Replica"
   ]
  },
  {
   "cell_type": "code",
   "execution_count": 42,
   "metadata": {},
   "outputs": [],
   "source": [
    "from plyfile import *\n",
    "import numpy as np\n",
    "import os\n",
    "import open3d as o3d\n",
    "import json"
   ]
  },
  {
   "cell_type": "markdown",
   "metadata": {},
   "source": [
    "# Get the files with the segmentation"
   ]
  },
  {
   "cell_type": "code",
   "execution_count": 17,
   "metadata": {},
   "outputs": [
    {
     "name": "stdout",
     "output_type": "stream",
     "text": [
      "Reading input...\n",
      "Filtering data...\n",
      "Writing data...\n"
     ]
    }
   ],
   "source": [
    "# Code from: https://github.com/facebookresearch/Replica-Dataset/issues/17\n",
    "\n",
    "path_in_base = '/local/home/gmarsich/data2TB/DATASETS/Replica/frl_apartment_0/habitat/' #TODO TOSET\n",
    "name = \"mesh_semantic.ply\"\n",
    "path_in = os.path.join(path_in_base, name)\n",
    "\n",
    "print(\"Reading input...\")\n",
    "file_in = PlyData.read(path_in)\n",
    "vertices_in = file_in.elements[0]\n",
    "faces_in = file_in.elements[1]\n",
    "\n",
    "print(\"Filtering data...\")\n",
    "objects = {}\n",
    "for f in faces_in:\n",
    "     object_id = f[1]\n",
    "     if not object_id in objects:\n",
    "         objects[object_id] = []\n",
    "     objects[object_id].append((f[0],))\n",
    "\n",
    "print(\"Writing data...\")\n",
    "segmentation_dir = os.path.join(path_in_base, \"Segmentation/\")\n",
    "os.makedirs(segmentation_dir, exist_ok=True)\n",
    "for object_id, faces in objects.items():\n",
    "    path_out = segmentation_dir + name + f\"_{object_id}.ply\"\n",
    "    faces_out = PlyElement.describe(np.array(faces, dtype=[('vertex_indices', 'O')]), 'face')\n",
    "    PlyData([vertices_in, faces_out]).write(path_out)"
   ]
  },
  {
   "cell_type": "code",
   "execution_count": 52,
   "metadata": {},
   "outputs": [],
   "source": [
    "#\n",
    "# Visualise an object\n",
    "#\n",
    "\n",
    "# Specify the path to one of the output PLY files\n",
    "path_to_output_ply = '/local/home/gmarsich/data2TB/DATASETS/Replica/frl_apartment_0/habitat/Segmentation/mesh_semantic.ply_47.ply' #TODO TOSET\n",
    "\n",
    "# Load the PLY file\n",
    "mesh = o3d.io.read_triangle_mesh(path_to_output_ply)\n",
    "\n",
    "# Check if the mesh was loaded correctly\n",
    "if not mesh.has_triangles():\n",
    "    raise ValueError(f\"Failed to load mesh from {path_to_output_ply}\")\n",
    "\n",
    "# Compute vertex normals (if they are not already present)\n",
    "mesh.compute_vertex_normals()\n",
    "\n",
    "# Visualize the mesh\n",
    "o3d.visualization.draw_geometries([mesh])"
   ]
  },
  {
   "cell_type": "markdown",
   "metadata": {},
   "source": [
    "# Get useful information"
   ]
  },
  {
   "cell_type": "code",
   "execution_count": 59,
   "metadata": {},
   "outputs": [
    {
     "name": "stdout",
     "output_type": "stream",
     "text": [
      "233\n"
     ]
    }
   ],
   "source": [
    "# Get a list list_file_paths containing the paths of all the meshes (one mesh represents one object). Ordered following the numbering of the meshes\n",
    "\n",
    "all_items = os.listdir(segmentation_dir)\n",
    "list_file_paths = [os.path.join(segmentation_dir, item) for item in all_items if os.path.isfile(os.path.join(segmentation_dir, item))]\n",
    "list_file_paths.sort(key=lambda x: int(x.split('_')[-1].split('.')[0]))\n",
    "\n",
    "print(len(list_file_paths))\n"
   ]
  },
  {
   "cell_type": "code",
   "execution_count": 60,
   "metadata": {},
   "outputs": [
    {
     "name": "stderr",
     "output_type": "stream",
     "text": [
      "RPly: Aborted by user\n",
      "RPly: Aborted by user\n",
      "RPly: Aborted by user\n"
     ]
    },
    {
     "name": "stdout",
     "output_type": "stream",
     "text": [
      "6\n"
     ]
    },
    {
     "name": "stderr",
     "output_type": "stream",
     "text": [
      "RPly: Aborted by user\n"
     ]
    }
   ],
   "source": [
    "# Create list_pointsPointClouds. Each element is a point cloud, there is a correspondance with list_file_paths\n",
    "\n",
    "np.random.seed(42)\n",
    "\n",
    "list_pointsPointClouds = [] # list_pointsPointClouds[i] contains the points related to list_file_paths[i] (i.e., mesh_semantic.ply_i.ply). i represents the obj_id\n",
    "\n",
    "# for i in range(len(list_file_paths)): #TODO: sistemare\n",
    "for i in range(6):\n",
    "    path_to_mesh_ply = list_file_paths[i]\n",
    "    mesh = o3d.io.read_triangle_mesh(path_to_mesh_ply)\n",
    "    mesh.compute_vertex_normals()\n",
    "    # Sample points from the mesh\n",
    "    point_cloud = mesh.sample_points_uniformly(number_of_points=1000)  #TODO TOSET: adjust the number of points as needed\n",
    "    list_pointsPointClouds.append(point_cloud)"
   ]
  },
  {
   "cell_type": "code",
   "execution_count": 65,
   "metadata": {},
   "outputs": [
    {
     "name": "stdout",
     "output_type": "stream",
     "text": [
      "226\n"
     ]
    }
   ],
   "source": [
    "# Create list_info with information for each object. REFER TO THE id WHEN SEARCHING FOR SOMETHING\n",
    "\n",
    "# TODO: an idea could be to add a different color for each obj_id\n",
    "# TODO: get the segmentation point cloud. But in that case we should choose the colors to give for each obj_id. They may also be random\n",
    "\n",
    "name_semantic = \"info_semantic.json\"\n",
    "path_info_semantic = os.path.join(path_in_base, name_semantic)\n",
    "\n",
    "with open(path_info_semantic, 'r') as file:\n",
    "    data = json.load(file)\n",
    "\n",
    "objects = data.get('objects', [])\n",
    "list_info = [] # remark that it will not be ordered\n",
    "\n",
    "length = len(objects)\n",
    "\n",
    "for obj in objects:\n",
    "    obj_id = obj.get('id')\n",
    "    class_name = obj.get('class_name')\n",
    "    center = obj.get('oriented_bbox', {}).get('abb', {}).get('center', [])\n",
    "    list_info.append([obj_id, class_name, center])\n",
    "\n",
    "print(len(list_info))"
   ]
  },
  {
   "cell_type": "markdown",
   "metadata": {},
   "source": [
    "Be aware that we may have that `len(list_file_paths) != len(list_info)`, but I don't really know why. Some ids seem to be missing in the `.json` file"
   ]
  },
  {
   "cell_type": "markdown",
   "metadata": {},
   "source": [
    "# Get the scene graph"
   ]
  }
 ],
 "metadata": {
  "kernelspec": {
   "display_name": "sceneGraphs_Gaia",
   "language": "python",
   "name": "python3"
  },
  "language_info": {
   "codemirror_mode": {
    "name": "ipython",
    "version": 3
   },
   "file_extension": ".py",
   "mimetype": "text/x-python",
   "name": "python",
   "nbconvert_exporter": "python",
   "pygments_lexer": "ipython3",
   "version": "3.10.14"
  }
 },
 "nbformat": 4,
 "nbformat_minor": 2
}
