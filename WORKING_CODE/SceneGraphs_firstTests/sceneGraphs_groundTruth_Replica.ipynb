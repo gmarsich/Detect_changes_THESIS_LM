{
 "cells": [
  {
   "cell_type": "code",
   "execution_count": 37,
   "metadata": {},
   "outputs": [],
   "source": [
    "# environment: sceneGraphs_groundTruth_Replica"
   ]
  },
  {
   "cell_type": "markdown",
   "metadata": {},
   "source": [
    "This notebook has been prepared to retrieve the ground truth on the segmentation in the Replica dataset.\n",
    "\n",
    "**TODO**: the work has been completed but not checked! Something is probably to fix: the POT in the frl_apartment_0 (one of the first 6 objects) appears in a strange position"
   ]
  },
  {
   "cell_type": "code",
   "execution_count": 1,
   "metadata": {},
   "outputs": [],
   "source": [
    "from plyfile import *\n",
    "import numpy as np\n",
    "import os\n",
    "import open3d as o3d\n",
    "import json\n",
    "from scipy.spatial import KDTree\n",
    "import csv\n",
    "import pyviz3d.visualizer as viz"
   ]
  },
  {
   "cell_type": "markdown",
   "metadata": {},
   "source": [
    "## Get the files with the segmentation"
   ]
  },
  {
   "cell_type": "markdown",
   "metadata": {},
   "source": [
    "Get a folder containing, somehow, a mesh for each instance. Be aware that it seems that somehow each mesh still contains the information of the whole scene:"
   ]
  },
  {
   "cell_type": "code",
   "execution_count": 2,
   "metadata": {},
   "outputs": [
    {
     "name": "stdout",
     "output_type": "stream",
     "text": [
      "Reading input...\n",
      "Filtering data...\n",
      "Writing data...\n"
     ]
    }
   ],
   "source": [
    "# Code from: https://github.com/facebookresearch/Replica-Dataset/issues/17\n",
    "\n",
    "path_in_base = '/local/home/gmarsich/data2TB/DATASETS/Replica/frl_apartment_0/habitat/' #TODO TOSET\n",
    "name = \"mesh_semantic.ply\"\n",
    "path_in = os.path.join(path_in_base, name)\n",
    "\n",
    "print(\"Reading input...\")\n",
    "file_in = PlyData.read(path_in)\n",
    "vertices_in = file_in.elements[0]\n",
    "faces_in = file_in.elements[1]\n",
    "\n",
    "print(\"Filtering data...\")\n",
    "objects = {}\n",
    "for f in faces_in:\n",
    "     object_id = f[1]\n",
    "     if not object_id in objects:\n",
    "         objects[object_id] = []\n",
    "     objects[object_id].append((f[0],))\n",
    "\n",
    "print(\"Writing data...\")\n",
    "segmentation_dir = os.path.join(path_in_base, \"Segmentation/\")\n",
    "os.makedirs(segmentation_dir, exist_ok=True)\n",
    "for object_id, faces in objects.items():\n",
    "    path_out = segmentation_dir + name + f\"_{object_id}.ply\"\n",
    "    faces_out = PlyElement.describe(np.array(faces, dtype=[('vertex_indices', 'O')]), 'face')\n",
    "    PlyData([vertices_in, faces_out]).write(path_out)"
   ]
  },
  {
   "cell_type": "markdown",
   "metadata": {},
   "source": [
    "Visualise an instance:"
   ]
  },
  {
   "cell_type": "code",
   "execution_count": 40,
   "metadata": {},
   "outputs": [],
   "source": [
    "path_to_output_ply = '/local/home/gmarsich/data2TB/DATASETS/Replica/frl_apartment_0/habitat/Segmentation/mesh_semantic.ply_47.ply' #TODO TOSET\n",
    "\n",
    "mesh = o3d.io.read_triangle_mesh(path_to_output_ply)\n",
    "\n",
    "if not mesh.has_triangles():\n",
    "    raise ValueError(f\"Failed to load mesh from {path_to_output_ply}\")\n",
    "\n",
    "mesh.compute_vertex_normals()\n",
    "\n",
    "# Visualize the mesh\n",
    "o3d.visualization.draw_geometries([mesh])"
   ]
  },
  {
   "cell_type": "markdown",
   "metadata": {},
   "source": [
    "## Get useful information"
   ]
  },
  {
   "cell_type": "markdown",
   "metadata": {},
   "source": [
    "Get a `list list_file_paths` containing the paths of all the meshes (one mesh represents one instance). Ordered following the numbering of the meshes:"
   ]
  },
  {
   "cell_type": "code",
   "execution_count": 41,
   "metadata": {},
   "outputs": [
    {
     "name": "stdout",
     "output_type": "stream",
     "text": [
      "233\n"
     ]
    }
   ],
   "source": [
    "all_items = os.listdir(segmentation_dir)\n",
    "list_file_paths = [os.path.join(segmentation_dir, item) for item in all_items if os.path.isfile(os.path.join(segmentation_dir, item))]\n",
    "list_file_paths.sort(key=lambda x: int(x.split('_')[-1].split('.')[0]))\n",
    "\n",
    "print(len(list_file_paths))\n"
   ]
  },
  {
   "cell_type": "markdown",
   "metadata": {},
   "source": [
    "Create `list_points`. Each element is a list of points, there is a correspondance with `list_file_paths`:"
   ]
  },
  {
   "cell_type": "code",
   "execution_count": 42,
   "metadata": {},
   "outputs": [
    {
     "name": "stdout",
     "output_type": "stream",
     "text": [
      "\u001b[1;33m[Open3D WARNING] Read PLY failed: A polygon in the mesh could not be decomposed into triangles.\u001b[0;m\n",
      "\u001b[1;33m[Open3D WARNING] Read PLY failed: unable to read file: /local/home/gmarsich/data2TB/DATASETS/Replica/frl_apartment_0/habitat/Segmentation/mesh_semantic.ply_0.ply\u001b[0;m\n"
     ]
    },
    {
     "name": "stderr",
     "output_type": "stream",
     "text": [
      "RPly: Aborted by user\n"
     ]
    },
    {
     "name": "stdout",
     "output_type": "stream",
     "text": [
      "\u001b[1;33m[Open3D WARNING] Read PLY failed: A polygon in the mesh could not be decomposed into triangles.\u001b[0;m\n",
      "\u001b[1;33m[Open3D WARNING] Read PLY failed: unable to read file: /local/home/gmarsich/data2TB/DATASETS/Replica/frl_apartment_0/habitat/Segmentation/mesh_semantic.ply_2.ply\u001b[0;m\n"
     ]
    },
    {
     "name": "stderr",
     "output_type": "stream",
     "text": [
      "RPly: Aborted by user\n"
     ]
    },
    {
     "name": "stdout",
     "output_type": "stream",
     "text": [
      "\u001b[1;33m[Open3D WARNING] Read PLY failed: A polygon in the mesh could not be decomposed into triangles.\u001b[0;m\n",
      "\u001b[1;33m[Open3D WARNING] Read PLY failed: unable to read file: /local/home/gmarsich/data2TB/DATASETS/Replica/frl_apartment_0/habitat/Segmentation/mesh_semantic.ply_4.ply\u001b[0;m\n"
     ]
    },
    {
     "name": "stderr",
     "output_type": "stream",
     "text": [
      "RPly: Aborted by user\n"
     ]
    },
    {
     "name": "stdout",
     "output_type": "stream",
     "text": [
      "\u001b[1;33m[Open3D WARNING] Read PLY failed: A polygon in the mesh could not be decomposed into triangles.\u001b[0;m\n",
      "\u001b[1;33m[Open3D WARNING] Read PLY failed: unable to read file: /local/home/gmarsich/data2TB/DATASETS/Replica/frl_apartment_0/habitat/Segmentation/mesh_semantic.ply_5.ply\u001b[0;m\n"
     ]
    },
    {
     "name": "stderr",
     "output_type": "stream",
     "text": [
      "RPly: Aborted by user\n"
     ]
    }
   ],
   "source": [
    "np.random.seed(42)\n",
    "\n",
    "list_points = [] # list_points[i] contains the points related to list_file_paths[i] (i.e., mesh_semantic.ply_i.ply). i represents the obj_id\n",
    "\n",
    "# for i in range(len(list_file_paths)): #TODO: adjust depending on which instance you want to see\n",
    "for i in range(6): #TODO: adjust depending on which instance you want to see\n",
    "    path_to_mesh_ply = list_file_paths[i]\n",
    "    mesh = o3d.io.read_triangle_mesh(path_to_mesh_ply)\n",
    "    mesh.compute_vertex_normals()\n",
    "    # Sample points from the mesh\n",
    "    point_cloud = mesh.sample_points_uniformly(number_of_points=1000)  #TODO TOSET: adjust the number of points as needed\n",
    "    list_points.append(np.asarray(point_cloud.points))\n"
   ]
  },
  {
   "cell_type": "markdown",
   "metadata": {},
   "source": [
    "Create `list_info` with information for each object (`[obj_id, class_name, center]`). **Refer to the id when searching for something**:"
   ]
  },
  {
   "cell_type": "code",
   "execution_count": 43,
   "metadata": {},
   "outputs": [
    {
     "name": "stdout",
     "output_type": "stream",
     "text": [
      "226\n"
     ]
    }
   ],
   "source": [
    "# TODO: an idea could be to add a different color for each obj_id\n",
    "# TODO: get the segmentation point cloud. But in that case we should choose the colors to give for each obj_id. They may also be random\n",
    "\n",
    "name_semantic = \"info_semantic.json\"\n",
    "path_info_semantic = os.path.join(path_in_base, name_semantic)\n",
    "\n",
    "with open(path_info_semantic, 'r') as file:\n",
    "    data = json.load(file)\n",
    "\n",
    "objects = data.get('objects', [])\n",
    "list_info = [] # remark that it will not be ordered\n",
    "\n",
    "for obj in objects:\n",
    "    obj_id = obj.get('id')\n",
    "    class_name = obj.get('class_name')\n",
    "    center = obj.get('oriented_bbox', {}).get('abb', {}).get('center', [])\n",
    "    list_info.append([obj_id, class_name, center])\n",
    "\n",
    "print(len(list_info))"
   ]
  },
  {
   "cell_type": "markdown",
   "metadata": {},
   "source": [
    "**TODO**: Be aware that we may have that `len(list_file_paths) != len(list_info)`, but I don't really know why. Some ids seem to be missing in the `.json` file"
   ]
  },
  {
   "cell_type": "markdown",
   "metadata": {},
   "source": [
    "## Get `matrix_distances`"
   ]
  },
  {
   "cell_type": "markdown",
   "metadata": {},
   "source": [
    "Let's define some useful functions and the possible metrics to compute the distance between instances, and then let's get the results:"
   ]
  },
  {
   "cell_type": "code",
   "execution_count": 44,
   "metadata": {},
   "outputs": [],
   "source": [
    "#\n",
    "# Possible distance metrics\n",
    "#\n",
    "\n",
    "def distance_Euclidean_centerBoundingBoxes(center_1, center_2):\n",
    "    distance = np.linalg.norm(center_1 - center_2)\n",
    "    return distance\n",
    "\n",
    "\n",
    "def distance_Euclidean_closest_points(list_points_1, list_points_2):\n",
    "    tree = KDTree(list_points_2)\n",
    "    min_distance = np.inf\n",
    "    for point1 in list_points_1:\n",
    "        dist, _ = tree.query(point1)\n",
    "        if dist < min_distance:\n",
    "            min_distance = dist\n",
    "    return min_distance\n",
    "\n",
    "\n",
    "#\n",
    "# Useful functions\n",
    "#\n",
    "\n",
    "def get_list_instances(list_info, list_points):\n",
    "    list_instances = [] # will contain a list of [obj_id, class_name, center, points]\n",
    "\n",
    "    for obj in list_info:\n",
    "        obj_id = obj[0]\n",
    "        class_name = obj[1]\n",
    "        center = obj[2]\n",
    "        if obj_id < len(list_points):\n",
    "            list_instances.append([obj_id, class_name, np.array(center), list_points[obj_id]])        \n",
    "    \n",
    "    transposed_list_instances = [list(row) for row in zip(*list_instances)]\n",
    "\n",
    "    return list_instances, transposed_list_instances\n",
    "\n",
    "\n",
    "def compute_distance_matrix(list_instances, compute_distance):\n",
    "    matrix_distances = np.full((len(list_instances), len(list_instances)), np.inf)\n",
    "\n",
    "    for i in range(len(matrix_distances)):\n",
    "        for j in range(i + 1, len(matrix_distances[0])): # the matrix is symmetric\n",
    "\n",
    "            if compute_distance == distance_Euclidean_centerBoundingBoxes:\n",
    "                matrix_distances[i][j] = compute_distance(list_instances[i][2], list_instances[j][2])\n",
    "            else:\n",
    "                matrix_distances[i][j] = compute_distance(list_instances[i][3], list_instances[j][3])\n",
    "            \n",
    "            matrix_distances[j][i] = matrix_distances[i][j]\n",
    "\n",
    "    # Save matrix_distances in a file\n",
    "    with open(\"matrix_distances_file.txt\", 'w') as file_matrix:\n",
    "        file_matrix.write(\"\\n\")\n",
    "        np.savetxt(file_matrix, matrix_distances, fmt='%.18e')\n",
    "\n",
    "    # Save list_instances (but just the list of [obj_id, class_name, center], so without the list_points)\n",
    "    with open(\"list_objects.txt\", 'w') as file_objects:\n",
    "        list_instances_noPoints = [sublist[:-1] for sublist in list_instances]\n",
    "        for sublist in list_instances_noPoints:\n",
    "            obj_id, class_name, center = sublist\n",
    "            center_str = ', '.join(f'{coord:.6f}' for coord in center)\n",
    "            file_objects.write(f\"{obj_id}\\t{class_name}\\t{center_str}\\n\")\n",
    "    \n",
    "    return matrix_distances"
   ]
  },
  {
   "cell_type": "code",
   "execution_count": 45,
   "metadata": {},
   "outputs": [],
   "source": [
    "list_instances, transposed_list_instances = get_list_instances(list_info, list_points)\n",
    "\n",
    "matrix_distances = compute_distance_matrix(list_instances, compute_distance = distance_Euclidean_centerBoundingBoxes) # TODO TOSET: change the distance metric you want to use"
   ]
  },
  {
   "cell_type": "markdown",
   "metadata": {},
   "source": [
    "## Get the scene graph"
   ]
  },
  {
   "cell_type": "code",
   "execution_count": 28,
   "metadata": {},
   "outputs": [],
   "source": [
    "# TODO: automate the naming of the folder where scene graph are saved"
   ]
  },
  {
   "cell_type": "markdown",
   "metadata": {},
   "source": [
    "### Version using PyViz3D"
   ]
  },
  {
   "cell_type": "code",
   "execution_count": 27,
   "metadata": {},
   "outputs": [],
   "source": [
    "# TODO put in the Control panel the possibility to see and not to see the distances on the edges\n",
    "# TODO change reference system (e.g., the origin is the centroid of the centroids)"
   ]
  },
  {
   "cell_type": "markdown",
   "metadata": {},
   "source": [
    "Here I use the `PyViz3D` package (https://github.com/francisengelmann/PyViz3D), taking inspiration from this example: https://github.com/francisengelmann/PyViz3D/blob/master/examples/example_point_clouds.py to add the point cloud to the visualisation. Then, also vertices and edges have to be added."
   ]
  },
  {
   "cell_type": "markdown",
   "metadata": {},
   "source": [
    "Create a function that generates the scene graph:"
   ]
  },
  {
   "cell_type": "code",
   "execution_count": 46,
   "metadata": {},
   "outputs": [],
   "source": [
    "threshold = 8 # TODO TOSET: distance threshold in meters\n",
    "\n",
    "def create_sceneGraph(list_instances, matrix_distances, threshold, custom_color=[0, 0, 0]):\n",
    "    # custom_color gives the color for vertices and edges\n",
    "    vertices = [label[2] for label in list_instances] # the vertices are the centers of the bounding boxes\n",
    "\n",
    "    # Create lines for the edges and save the associated distances\n",
    "    edges = []\n",
    "    distances_str = []\n",
    "    distances = []\n",
    "    for i in range(len(matrix_distances)):\n",
    "        for j in range(i + 1, len(matrix_distances[0])):\n",
    "            if matrix_distances[i][j] <= threshold:\n",
    "                    edges.append([i, j])\n",
    "                    distances.append(matrix_distances[i][j])\n",
    "                    distances_str.append(f\"{matrix_distances[i][j]:.2f}\")\n",
    "\n",
    "    lines_start = np.array([vertices[i] for (i, j) in edges])\n",
    "    lines_end = np.array([vertices[j] for (i, j) in edges])\n",
    "    midpoints = (lines_start + lines_end) / 2\n",
    "\n",
    "    lines_colors = np.array([custom_color for (i, j) in edges])\n",
    "\n",
    "    return lines_start, lines_end, lines_colors, [np.array(row) for row in midpoints], distances, distances_str"
   ]
  },
  {
   "cell_type": "markdown",
   "metadata": {},
   "source": [
    "Visualise and save the scene graph:"
   ]
  },
  {
   "cell_type": "code",
   "execution_count": 47,
   "metadata": {},
   "outputs": [
    {
     "name": "stdout",
     "output_type": "stream",
     "text": [
      "\n",
      "************************************************************************\n",
      "1) Start local server:\n",
      "    cd /local/home/gmarsich/Desktop/Thesis/0Code_playground/sceneGraph_PyViz3D; python -m http.server 6008\n",
      "2) Open in browser:\n",
      "    http://localhost:6008\n",
      "************************************************************************\n"
     ]
    }
   ],
   "source": [
    "v = viz.Visualizer()\n",
    "\n",
    "pcd = o3d.io.read_point_cloud(os.path.join(\"/local/home/gmarsich/data2TB/DATASETS/Replica/frl_apartment_0/mesh.ply\")) # TODO TOSET: change the name of the point cloud to open\n",
    "\n",
    "name = '3D segmentation'\n",
    "point_positions = np.asarray(pcd.points)\n",
    "point_colors = (np.asarray(pcd.colors) * 255).astype(np.uint8)\n",
    "point_size = 15 # TODO TOSET\n",
    "\n",
    "# Here we add point clouds to the visualiser\n",
    "v.add_points(name, point_positions, point_colors, point_size=point_size, visible=False)\n",
    "\n",
    "colors = [np.array([0, 0, 0]) for label in transposed_list_instances[0]] # TODO TOSET\n",
    "\n",
    "v.add_labels(name ='Labels',\n",
    "                 labels = [label.upper() for label in transposed_list_instances[1]], # TODO TOSET: if you want in capital letters or not\n",
    "                 positions = transposed_list_instances[2],\n",
    "                 colors = colors,\n",
    "                 visible=True)\n",
    "\n",
    "lines_start, lines_end, lines_colors, midpoints, _, distances_str = create_sceneGraph(list_instances, matrix_distances, threshold, custom_color=[0, 0, 0])\n",
    "\n",
    "v.add_lines(name='Edges', lines_start=lines_start, lines_end=lines_end, colors=lines_colors, visible=True)\n",
    "\n",
    "# The following is to have the distances among instances\n",
    "distances_on = True #TODO TOSET\n",
    "if distances_on:\n",
    "    v.add_labels(name ='Distances',\n",
    "                    labels = distances_str,\n",
    "                    positions = midpoints,\n",
    "                    colors = [0, 0, 0] * len(midpoints), # TODO TOSET change the color of the text of distances\n",
    "                    visible=True)\n",
    "\n",
    "# When we added everything we need to the visualizer, we save it.\n",
    "v.save('sceneGraph_PyViz3D')\n"
   ]
  }
 ],
 "metadata": {
  "kernelspec": {
   "display_name": "sceneGraphs_Gaia",
   "language": "python",
   "name": "python3"
  },
  "language_info": {
   "codemirror_mode": {
    "name": "ipython",
    "version": 3
   },
   "file_extension": ".py",
   "mimetype": "text/x-python",
   "name": "python",
   "nbconvert_exporter": "python",
   "pygments_lexer": "ipython3",
   "version": "3.10.14"
  }
 },
 "nbformat": 4,
 "nbformat_minor": 2
}
