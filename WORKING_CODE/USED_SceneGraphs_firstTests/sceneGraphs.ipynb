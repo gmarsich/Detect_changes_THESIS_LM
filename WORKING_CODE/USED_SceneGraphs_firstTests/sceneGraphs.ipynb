{
 "cells": [
  {
   "cell_type": "code",
   "execution_count": 1,
   "metadata": {},
   "outputs": [],
   "source": [
    "# environment: sceneGraphs_Gaia"
   ]
  },
  {
   "cell_type": "code",
   "execution_count": 2,
   "metadata": {},
   "outputs": [],
   "source": [
    "import numpy as np\n",
    "import os\n",
    "import open3d as o3d\n",
    "import copy\n",
    "import pyviz3d.visualizer as viz\n",
    "from scipy.spatial import KDTree\n",
    "import csv\n",
    "\n",
    "import scannet200_constants # local file. From https://github.com/cvg/Mask3D/blob/e07b115fb7830d600f9db865489612f5739bbb50/mask3d/datasets/scannet200/scannet200_constants.py"
   ]
  },
  {
   "cell_type": "markdown",
   "metadata": {},
   "source": [
    "The point cloud you need to load is the 3D segmentation done with Mask3D:"
   ]
  },
  {
   "cell_type": "code",
   "execution_count": 3,
   "metadata": {},
   "outputs": [],
   "source": [
    "pcd_mask3D = o3d.io.read_point_cloud(os.path.join(\"/local/home/gmarsich/data2TB/LabelMaker/processed_ARKitScenes/40753679/intermediate/scannet200_mask3d_1/mesh_labelled.ply\")) # TODO TOSET: change the name of the point cloud to open\n",
    "o3d.visualization.draw_geometries([pcd_mask3D])"
   ]
  },
  {
   "cell_type": "markdown",
   "metadata": {},
   "source": [
    "## Get useful files"
   ]
  },
  {
   "cell_type": "markdown",
   "metadata": {},
   "source": [
    "Get the path of the files containing useful information on the predictions:"
   ]
  },
  {
   "cell_type": "code",
   "execution_count": 4,
   "metadata": {},
   "outputs": [],
   "source": [
    "# Path to \"predictions.txt\"\n",
    "base_path = \"/local/home/gmarsich/data2TB/LabelMaker/processed_ARKitScenes/40753679/intermediate/scannet200_mask3d_1\" # TODO TOSET\n",
    "path_predictions = os.path.join(base_path, \"predictions.txt\") # TODO TOSET: change if necessary\n",
    "\n",
    "# Paths to the pred_mask files\n",
    "path_pred_masks = os.path.join(base_path, \"pred_mask\") #TODO TOSET\n",
    "all_files = os.listdir(path_pred_masks)\n",
    "txt_files = [f for f in all_files if f.endswith('.txt')]\n",
    "\n",
    "def extract_number(filename):\n",
    "    return int(os.path.splitext(filename)[0])\n",
    "\n",
    "txt_files.sort(key=extract_number)\n",
    "sorted_txt_paths = [os.path.join(path_pred_masks, f) for f in txt_files]"
   ]
  },
  {
   "cell_type": "markdown",
   "metadata": {},
   "source": [
    "Get the list of objects that appear in the segmentation (use the file `predictions.txt` provided from the work of Mask3D) (code taken from the notebook I did for LabelMaker):"
   ]
  },
  {
   "cell_type": "code",
   "execution_count": 5,
   "metadata": {},
   "outputs": [],
   "source": [
    "def build_legend(path_predictions):\n",
    "    with open(path_predictions, 'r') as file:\n",
    "        lines = file.readlines()\n",
    "\n",
    "    predictions = []\n",
    "\n",
    "    for line in lines:\n",
    "        parts = line.strip().split()\n",
    "        filename = parts[0]\n",
    "        file_number = filename.split('/')[1].split('.')[0]\n",
    "        object_ID = int(parts[1])\n",
    "        confidence = float(parts[2])\n",
    "\n",
    "        predictions.append([file_number, object_ID, confidence])\n",
    "\n",
    "    # Build a list with the info that I need\n",
    "    objects = []\n",
    "\n",
    "    for prediction in predictions:\n",
    "        object_ID = prediction[1]\n",
    "        \n",
    "        # Find the object_ID in the objects list\n",
    "        found = False\n",
    "        for obj in objects:\n",
    "            if obj[0] == object_ID:\n",
    "                obj[1] += 1\n",
    "                found = True\n",
    "                break\n",
    "        \n",
    "        # If the object_ID was not found, add it to the list with a count of 1\n",
    "        if not found:\n",
    "            objects.append([object_ID, 1])\n",
    "\n",
    "\n",
    "    #\n",
    "    # Build a big table with the correspondences between VALID_CLASS_IDS_200, CLASS_LABELS_200 and SCANNET_COLOR_MAP_200 from scannet200_constants\n",
    "    #\n",
    "\n",
    "    table_scannet200 = []\n",
    "\n",
    "    for class_id, label in zip(scannet200_constants.VALID_CLASS_IDS_200, scannet200_constants.CLASS_LABELS_200):\n",
    "        color = scannet200_constants.SCANNET_COLOR_MAP_200[class_id]\n",
    "        table_scannet200.append((class_id, label, color))\n",
    "\n",
    "    # An alternative could be to get the colours from the point cloud and search for their assciated IDs (and name of the object) on\n",
    "        # https://github.com/ScanNet/ScanNet/blob/master/BenchmarkScripts/ScanNet200/scannet200_constants.py\n",
    "\n",
    "\n",
    "    #\n",
    "    # Use the big table to add information to the list objects\n",
    "    #\n",
    "\n",
    "    # Add label and colour\n",
    "    for obj in objects:\n",
    "        object_ID = obj[0]\n",
    "        \n",
    "        for entry in table_scannet200:\n",
    "            class_id, label, color = entry\n",
    "            if object_ID == class_id:\n",
    "                obj.append(label)\n",
    "                obj.append(color)\n",
    "                break\n",
    "\n",
    "    # Sort the objects list by the ID (first element of each sublist)\n",
    "    objects.sort(key=lambda x: x[0])\n",
    "    return objects\n",
    "\n",
    "objects = build_legend(path_predictions)"
   ]
  },
  {
   "cell_type": "markdown",
   "metadata": {},
   "source": [
    "Now each element of the list `objects` has $4$ elements:\n",
    "\n",
    "- `objects[i][0]`: ID of the class\n",
    "\n",
    "- `objects[i][1]`: number of instances of the class\n",
    "\n",
    "- `objects[i][2]`: name of the class in English\n",
    "\n",
    "- `objects[i][3]`: colour of the instances of the class in RGB (max values: $(255, 255, 255)$)"
   ]
  },
  {
   "cell_type": "markdown",
   "metadata": {},
   "source": [
    "## Get `matrix_distances`"
   ]
  },
  {
   "cell_type": "markdown",
   "metadata": {},
   "source": [
    "First of all let's define some useful functions and the possible metrics to compute the distance between instances:"
   ]
  },
  {
   "cell_type": "code",
   "execution_count": 7,
   "metadata": {},
   "outputs": [],
   "source": [
    "#\n",
    "# Possible distance metrics\n",
    "#\n",
    "\n",
    "def distance_Euclidean_centroids(centroid_1, centroid_2):\n",
    "    distance = np.linalg.norm(centroid_1 - centroid_2)\n",
    "    return distance\n",
    "\n",
    "\n",
    "def distance_Euclidean_closest_points(list_points_1, list_points_2):\n",
    "    tree = KDTree(list_points_2)\n",
    "    min_distance = np.inf\n",
    "    for point1 in list_points_1:\n",
    "        dist, _ = tree.query(point1)\n",
    "        if dist < min_distance:\n",
    "            min_distance = dist\n",
    "    return min_distance\n",
    "\n",
    "\n",
    "#\n",
    "# Useful functions\n",
    "#\n",
    "\n",
    "def get_list_points(path_pred_mask, pcd_mask3D):\n",
    "    points = np.asarray(pcd_mask3D.points)\n",
    "\n",
    "    with open(path_pred_mask, 'r') as f:\n",
    "        mask = np.array([int(line.strip()) for line in f])\n",
    "    assert len(mask) == len(points)\n",
    "    list_points = points[mask == 1]\n",
    "\n",
    "    return list_points\n",
    "\n",
    "\n",
    "def get_list_instances(path_predictions, sorted_txt_paths, pcd_mask3D):\n",
    "    with open(path_predictions, 'r') as file:\n",
    "        lines = file.readlines()\n",
    "\n",
    "    list_instances = [] # will contain a list of [object_ID, label, position_centroid, color, list_points]\n",
    "\n",
    "    for i, path_pred_mask in enumerate(sorted_txt_paths):\n",
    "        parts = lines[i].strip().split()\n",
    "        object_ID = int(parts[1])\n",
    "        label = None\n",
    "\n",
    "        list_points = get_list_points(path_pred_mask, pcd_mask3D)\n",
    "\n",
    "        position_centroid = np.mean(list_points, axis=0)\n",
    "        color = None  \n",
    "        for index in range(len(objects)):\n",
    "            if objects[index][0] == object_ID:\n",
    "                label = objects[index][2]\n",
    "                color = objects[index][3]\n",
    "                #break\n",
    "        list_instances.append([object_ID, label, position_centroid, color, list_points])\n",
    "\n",
    "    transposed_list_instances = [list(row) for row in zip(*list_instances)]\n",
    "\n",
    "    return list_instances, transposed_list_instances\n",
    "\n",
    "\n",
    "def compute_distance_matrix(list_instances, compute_distance):\n",
    "    matrix_distances = np.full((len(list_instances), len(list_instances)), np.inf)\n",
    "\n",
    "    for i in range(len(matrix_distances)):\n",
    "        for j in range(i + 1, len(matrix_distances[0])): # the matrix is symmetric\n",
    "\n",
    "            if compute_distance == distance_Euclidean_centroids:\n",
    "                matrix_distances[i][j] = compute_distance(list_instances[i][2], list_instances[j][2])\n",
    "            else:\n",
    "                matrix_distances[i][j] = compute_distance(list_instances[i][4], list_instances[j][4])\n",
    "            \n",
    "            matrix_distances[j][i] = matrix_distances[i][j]\n",
    "\n",
    "    # Save matrix_distances in a file\n",
    "    with open(\"matrix_distances_file.txt\", 'w') as file_matrix:\n",
    "        file_matrix.write(\"\\n\")\n",
    "        np.savetxt(file_matrix, matrix_distances, fmt='%.18e')\n",
    "\n",
    "    # Save list_instances (but just the list of [object_ID, label, position_centroid, color], so without the list_points)\n",
    "    with open(\"list_objects.txt\", 'w') as file_objects:\n",
    "        list_instances_noPoints = [sublist[:-1] for sublist in list_instances]\n",
    "        for sublist in list_instances_noPoints:\n",
    "            obj_id, label, position_centroid, color = sublist\n",
    "            center_str = ', '.join(f'{coord:.6f}' for coord in position_centroid)\n",
    "            file_objects.write(f\"{obj_id}\\t{label}\\t{center_str}\\t{color}\\n\") #TODO maybe to be revised for the `color` variable\n",
    "    \n",
    "    return matrix_distances"
   ]
  },
  {
   "cell_type": "markdown",
   "metadata": {},
   "source": [
    "Compute `list_instances` and `transposed_list_instances`, then get the `matrix_distances` depending on the selected distance metric:"
   ]
  },
  {
   "cell_type": "code",
   "execution_count": 8,
   "metadata": {},
   "outputs": [],
   "source": [
    "list_instances, transposed_list_instances = get_list_instances(path_predictions, sorted_txt_paths, pcd_mask3D)\n",
    "\n",
    "matrix_distances = compute_distance_matrix(list_instances, compute_distance = distance_Euclidean_centroids) # TODO TOSET: change the distance metric you want to use\n"
   ]
  },
  {
   "cell_type": "markdown",
   "metadata": {},
   "source": [
    "## Get the scene graph"
   ]
  },
  {
   "cell_type": "code",
   "execution_count": 31,
   "metadata": {},
   "outputs": [],
   "source": [
    "# TODO: automate the naming of the folder where scene graph are saved"
   ]
  },
  {
   "cell_type": "markdown",
   "metadata": {},
   "source": [
    "### Version built from zero"
   ]
  },
  {
   "cell_type": "code",
   "execution_count": 11,
   "metadata": {},
   "outputs": [],
   "source": [
    "threshold = 1.7 # TODO TOSET: distance threshold in meters\n",
    "\n",
    "\n",
    "# Function to create the graph with colors\n",
    "def create_sceneGraph(list_instances, matrix_distances, color_lines, ceiling_represented=False): # max value of color_lines is [255, 255, 255]; ceiling_represented indicates if the wall will appear in the scene graph or not\n",
    "    index_ceiling = np.inf\n",
    "    if not ceiling_represented:\n",
    "        for i in range(len(list_instances)):\n",
    "            if 41 == list_instances[i][0]:\n",
    "                index_ceiling = i\n",
    "\n",
    "    vertices = [label[2] for label in list_instances] # the vertices are the centroids of the instances\n",
    "\n",
    "    colors = [np.array(label[3]) / 255.0 for label in list_instances]\n",
    "\n",
    "    if not ceiling_represented:\n",
    "        del vertices[index_ceiling]\n",
    "        del colors[index_ceiling]\n",
    "    \n",
    "    # Create a point cloud for the vertices\n",
    "    points = o3d.geometry.PointCloud()\n",
    "    points.points = o3d.utility.Vector3dVector(vertices)\n",
    "    points.colors = o3d.utility.Vector3dVector(colors)\n",
    "\n",
    "    # Update the matrix_distances to be used, in case\n",
    "    matrix_distances_copy = copy.deepcopy(matrix_distances)\n",
    "    if not ceiling_represented:\n",
    "        matrix_distances_copy = np.delete(matrix_distances_copy, index_ceiling, axis=0)\n",
    "        matrix_distances_copy = np.delete(matrix_distances_copy, index_ceiling, axis=1)\n",
    "\n",
    "    edges = []\n",
    "    for i in range(len(matrix_distances_copy)):\n",
    "        for j in range(i + 1, len(matrix_distances_copy[0])):\n",
    "            if matrix_distances_copy[i][j] <= threshold:\n",
    "                    edges.append([i, j])\n",
    "    \n",
    "    lines = o3d.geometry.LineSet()\n",
    "    lines.points = o3d.utility.Vector3dVector(vertices)\n",
    "    lines.lines = o3d.utility.Vector2iVector(edges)\n",
    "    lines.paint_uniform_color(color_lines)\n",
    "\n",
    "    return points, lines\n",
    "\n",
    "\n",
    "# Function for visualisation\n",
    "def visualise_sceneGraph(points, lines, point_size=15, line_width=4):\n",
    "    # Create a visualization window and set point size\n",
    "    vis = o3d.visualization.Visualizer()\n",
    "    vis.create_window()\n",
    "    vis.add_geometry(points)\n",
    "    vis.add_geometry(lines)\n",
    "\n",
    "    # Set point and line size\n",
    "    render_option = vis.get_render_option()\n",
    "    render_option.point_size = point_size\n",
    "\n",
    "    vis.get_view_control().convert_to_pinhole_camera_parameters()\n",
    "    vis.get_render_option().line_width = line_width\n",
    "\n",
    "    # Run the visualization\n",
    "    vis.run()\n",
    "    vis.destroy_window()\n",
    "\n",
    "\n",
    "points, lines = create_sceneGraph(list_instances, matrix_distances, color_lines=[0, 0, 0])\n",
    "\n",
    "# visualise_sceneGraph(points, lines, point_size=10) # uncomment if you want to see the scene graph (no saving of the data)"
   ]
  },
  {
   "cell_type": "markdown",
   "metadata": {},
   "source": [
    "Save the scene graph in a folder (the scene graph is actually splitted into two point clouds):"
   ]
  },
  {
   "cell_type": "code",
   "execution_count": 36,
   "metadata": {},
   "outputs": [],
   "source": [
    "def save_sceneGraph(points, lines, vertices_filename=\"sceneGraph_vertices.ply\", edges_filename=\"sceneGraph_edges.ply\"):\n",
    "    # Create the \"sceneGraph\" directory if it doesn't exist\n",
    "    if not os.path.exists(\"sceneGraph_Gaia\"):\n",
    "        os.makedirs(\"sceneGraph_Gaia\")\n",
    "\n",
    "    # Save the point cloud and line set to the \"sceneGraph\" directory\n",
    "    vertices_filepath = os.path.join(\"sceneGraph_Gaia\", vertices_filename)\n",
    "    edges_filepath = os.path.join(\"sceneGraph_Gaia\", edges_filename)\n",
    "    o3d.io.write_point_cloud(vertices_filepath, points)\n",
    "    o3d.io.write_line_set(edges_filepath, lines)\n",
    "\n",
    "\n",
    "def load_and_visualise_sceneGraph(vertices_filename=\"sceneGraph_vertices.ply\", edges_filename=\"sceneGraph_edges.ply\", point_size=15, line_width=4):\n",
    "    # Load the point cloud and line set\n",
    "    point_cloud_filepath = os.path.join(\"sceneGraph_Gaia\", vertices_filename)\n",
    "    line_set_filepath = os.path.join(\"sceneGraph_Gaia\", edges_filename)\n",
    "    points = o3d.io.read_point_cloud(point_cloud_filepath)\n",
    "    lines = o3d.io.read_line_set(line_set_filepath)\n",
    "\n",
    "    # Create a visualization window and set point size\n",
    "    vis = o3d.visualization.Visualizer()\n",
    "    vis.create_window()\n",
    "    vis.add_geometry(points)\n",
    "    vis.add_geometry(lines)\n",
    "\n",
    "    # Set point and line size\n",
    "    render_option = vis.get_render_option()\n",
    "    render_option.point_size = point_size\n",
    "    \n",
    "    vis.get_view_control().convert_to_pinhole_camera_parameters()\n",
    "    vis.get_render_option().line_width = line_width\n",
    "\n",
    "    # Run the visualization\n",
    "    vis.run()\n",
    "    vis.destroy_window()\n",
    "\n",
    "\n",
    "save_sceneGraph(points, lines)\n",
    "\n",
    "load_and_visualise_sceneGraph()"
   ]
  },
  {
   "cell_type": "markdown",
   "metadata": {},
   "source": [
    "You should then rename the file like this, in this specific case: `sceneGraph_Gaia_ARKitScenes_40753679_noCeiling_centroids_threshold_1.7`\n",
    "\n",
    "One needs to indicate, after `sceneGraph_Gaia`:\n",
    "- the scene taken into account (`ARKitScenes_40753679`)\n",
    "- if the ceiling is considered or not to draw the scene graph (`noCeiling`)\n",
    "- the distance metric that has been used to compute the distances between instances (`centroids`)\n",
    "- the threshold use to define close instances (`threshold_1.7`)\n"
   ]
  },
  {
   "cell_type": "markdown",
   "metadata": {},
   "source": [
    "### Version using PyViz3D"
   ]
  },
  {
   "cell_type": "code",
   "execution_count": null,
   "metadata": {},
   "outputs": [],
   "source": [
    "# TODO put in the Control panel the possibility to see and not to see the distances on the edges\n",
    "# TODO change reference system (e.g., the origin is the centroid of the centroids)"
   ]
  },
  {
   "cell_type": "markdown",
   "metadata": {},
   "source": [
    "Here I use the `PyViz3D` package (https://github.com/francisengelmann/PyViz3D), taking inspiration from this example: https://github.com/francisengelmann/PyViz3D/blob/master/examples/example_point_clouds.py to add the point cloud to the visualisation. Then, also vertices and edges have to be added."
   ]
  },
  {
   "cell_type": "markdown",
   "metadata": {},
   "source": [
    "Create a function that generates the scene graph:"
   ]
  },
  {
   "cell_type": "code",
   "execution_count": 38,
   "metadata": {},
   "outputs": [],
   "source": [
    "threshold = 1.7 # TODO TOSET: distance threshold in meters\n",
    "\n",
    "def create_sceneGraph(list_instances, matrix_distances, threshold, ceiling_represented=False, default_color_on=True, custom_color=[0, 0, 0]):\n",
    "    # default_color_on=True will color the edges with some colors of the vertices that the edge connects. If it is False, choose a color with custom_color for all the edges\n",
    "    index_ceiling = np.inf\n",
    "    if not ceiling_represented:\n",
    "        for i in range(len(list_instances)):\n",
    "            if 41 == list_instances[i][0]:\n",
    "                index_ceiling = i\n",
    "\n",
    "    vertices = [label[2] for label in list_instances] # the vertices are the centroids of the instances\n",
    "\n",
    "    colors = [np.array(label[3]) for label in list_instances]\n",
    "\n",
    "    if not ceiling_represented:\n",
    "        del vertices[index_ceiling]\n",
    "        del colors[index_ceiling]\n",
    "\n",
    "    # Update the matrix_distances to be used, in case\n",
    "    matrix_distances_copy = copy.deepcopy(matrix_distances)\n",
    "    if not ceiling_represented:\n",
    "        matrix_distances_copy = np.delete(matrix_distances_copy, index_ceiling, axis=0)\n",
    "        matrix_distances_copy = np.delete(matrix_distances_copy, index_ceiling, axis=1)\n",
    "\n",
    "    # Create lines for the edges and save the associated distances\n",
    "    edges = []\n",
    "    distances_str = []\n",
    "    distances = []\n",
    "    for i in range(len(matrix_distances_copy)):\n",
    "        for j in range(i + 1, len(matrix_distances_copy[0])):\n",
    "            if matrix_distances_copy[i][j] <= threshold:\n",
    "                    edges.append([i, j])\n",
    "                    distances.append(matrix_distances[i][j])\n",
    "                    distances_str.append(f\"{matrix_distances[i][j]:.2f}\")\n",
    "\n",
    "    lines_start = np.array([vertices[i] for (i, j) in edges])\n",
    "    lines_end = np.array([vertices[j] for (i, j) in edges])\n",
    "    midpoints = (lines_start + lines_end) / 2\n",
    "\n",
    "    if default_color_on:\n",
    "        lines_colors = np.array([colors[i] for (i, j) in edges]) # the color of the edge is given by the first vertex\n",
    "    else:\n",
    "        lines_colors = np.array([custom_color for (i, j) in edges])\n",
    "\n",
    "    return lines_start, lines_end, lines_colors, [np.array(row) for row in midpoints], distances, distances_str"
   ]
  },
  {
   "cell_type": "markdown",
   "metadata": {},
   "source": [
    "Visualise and save the scene graph:"
   ]
  },
  {
   "cell_type": "code",
   "execution_count": 39,
   "metadata": {},
   "outputs": [
    {
     "name": "stdout",
     "output_type": "stream",
     "text": [
      "\n",
      "************************************************************************\n",
      "1) Start local server:\n",
      "    cd /local/home/gmarsich/Desktop/Thesis/WORKING_CODE/SceneGraphs/sceneGraph_PyViz3D; python -m http.server 6008\n",
      "2) Open in browser:\n",
      "    http://localhost:6008\n",
      "************************************************************************\n"
     ]
    }
   ],
   "source": [
    "v = viz.Visualizer()\n",
    "\n",
    "name = '3D segmentation'\n",
    "point_positions = np.asarray(pcd_mask3D.points)\n",
    "point_colors = (np.asarray(pcd_mask3D.colors) * 255).astype(np.uint8)\n",
    "point_size = 15 # TODO TOSET\n",
    "\n",
    "# Here we add point clouds to the visualiser\n",
    "v.add_points(name, point_positions, point_colors, point_size=point_size, visible=False)\n",
    "\n",
    "v.add_labels(name ='Labels',\n",
    "                 labels = [label.upper() for label in transposed_list_instances[1]], # TODO TOSET: if you want in capital letters or not\n",
    "                 positions = transposed_list_instances[2],\n",
    "                 colors = transposed_list_instances[3],\n",
    "                 visible=True)\n",
    "\n",
    "lines_start, lines_end, lines_colors, midpoints, _, distances_str = create_sceneGraph(list_instances, matrix_distances, threshold, ceiling_represented=False, default_color_on=True, custom_color=[0, 0, 0])\n",
    "\n",
    "v.add_lines(name='Edges', lines_start=lines_start, lines_end=lines_end, colors=lines_colors, visible=True)\n",
    "\n",
    "# The following is to have the distances among instances\n",
    "distances_on = True #TODO TOSET\n",
    "if distances_on:\n",
    "    v.add_labels(name ='Distances',\n",
    "                    labels = distances_str,\n",
    "                    positions = midpoints,\n",
    "                    colors = [0, 0, 0] * len(midpoints), # TODO TOSET change the color of the text of distances\n",
    "                    visible=True)\n",
    "\n",
    "# When we added everything we need to the visualizer, we save it.\n",
    "v.save('sceneGraph_PyViz3D')\n"
   ]
  },
  {
   "cell_type": "markdown",
   "metadata": {},
   "source": [
    "You should then rename the file like this, in this specific case: `sceneGraph_PyViz3D_ARKitScenes_40753679_noCeiling_distances_centroids_threshold_1.7`\n",
    "\n",
    "One needs to indicate, after `sceneGraph_PyViz3D`:\n",
    "- the scene taken into account (`ARKitScenes_40753679`)\n",
    "- if the ceiling is considered or not to draw the scene graph (`noCeiling`)\n",
    "- if labels with the distances are represented (`distances`)\n",
    "- the distance metric that has been used to compute the distances between instances (`centroids`)\n",
    "- the threshold use to define close instances (`threshold_1.7`)\n"
   ]
  }
 ],
 "metadata": {
  "kernelspec": {
   "display_name": "sceneGraphs_Gaia",
   "language": "python",
   "name": "python3"
  },
  "language_info": {
   "codemirror_mode": {
    "name": "ipython",
    "version": 3
   },
   "file_extension": ".py",
   "mimetype": "text/x-python",
   "name": "python",
   "nbconvert_exporter": "python",
   "pygments_lexer": "ipython3",
   "version": "3.10.14"
  }
 },
 "nbformat": 4,
 "nbformat_minor": 2
}
