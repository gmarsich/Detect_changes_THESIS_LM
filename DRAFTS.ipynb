{
 "cells": [
  {
   "cell_type": "code",
   "execution_count": 2,
   "metadata": {},
   "outputs": [
    {
     "name": "stdout",
     "output_type": "stream",
     "text": [
      "15\n"
     ]
    }
   ],
   "source": [
    "import open3d as o3d\n",
    "import os\n",
    "\n",
    "def load_and_visualise_sceneGraph(vertices_filename=\"sceneGraph_vertices.ply\", edges_filename=\"sceneGraph_edges.ply\", point_size=15, line_width=4):\n",
    "    # Load the point cloud and line set\n",
    "    point_cloud_filepath = os.path.join(\"sceneGraph_Gaia\", vertices_filename)\n",
    "    line_set_filepath = os.path.join(\"sceneGraph_Gaia\", edges_filename)\n",
    "    points = o3d.io.read_point_cloud(point_cloud_filepath)\n",
    "    lines = o3d.io.read_line_set(line_set_filepath)\n",
    "\n",
    "    # Create a visualization window and set point size\n",
    "    vis = o3d.visualization.Visualizer()\n",
    "    vis.create_window()\n",
    "    vis.add_geometry(points)\n",
    "    print(len(points.points))\n",
    "    vis.add_geometry(lines)\n",
    "\n",
    "    # Set point and line size\n",
    "    render_option = vis.get_render_option()\n",
    "    render_option.point_size = point_size\n",
    "    \n",
    "    vis.get_view_control().convert_to_pinhole_camera_parameters()\n",
    "    vis.get_render_option().line_width = line_width\n",
    "\n",
    "    # Run the visualization\n",
    "    vis.run()\n",
    "    vis.destroy_window()\n",
    "\n",
    "load_and_visualise_sceneGraph()"
   ]
  }
 ],
 "metadata": {
  "kernelspec": {
   "display_name": "thesisPlayground_pointClouds_env",
   "language": "python",
   "name": "python3"
  },
  "language_info": {
   "codemirror_mode": {
    "name": "ipython",
    "version": 3
   },
   "file_extension": ".py",
   "mimetype": "text/x-python",
   "name": "python",
   "nbconvert_exporter": "python",
   "pygments_lexer": "ipython3",
   "version": "3.10.14"
  }
 },
 "nbformat": 4,
 "nbformat_minor": 2
}
